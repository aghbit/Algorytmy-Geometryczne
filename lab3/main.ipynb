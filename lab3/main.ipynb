{
 "cells": [
  {
   "cell_type": "code",
   "execution_count": null,
   "metadata": {},
   "outputs": [],
   "source": [
    "import numpy as np\n",
    "import pandas as pd\n",
    "import matplotlib.pyplot as plt\n",
    "from bitalg.tests.test3 import Test\n",
    "#from bitalg.visualizer.main import Visualizer"
   ]
  },
  {
   "cell_type": "markdown",
   "metadata": {},
   "source": [
    "# Triangulacja wielokątów monotonicznych - problem monitorowania galerii\n"
   ]
  },
  {
   "cell_type": "markdown",
   "metadata": {},
   "source": [
    "## Przydatne funkcje\n"
   ]
  },
  {
   "cell_type": "code",
   "execution_count": null,
   "metadata": {},
   "outputs": [],
   "source": [
    "def draw_polygon():\n",
    "    x = np.array([4, 2, 3, 6, 3, 6, 9, 7, 4, 5])  \n",
    "    y = np.array([1, 2, 5, 7, 9, 10, 7, 4, 3, 0])  \n",
    "    x = np.append(x, x[0])\n",
    "    y = np.append(y, y[0])\n",
    "    plt.figure(figsize=(6, 4))\n",
    "    plt.plot(x, y, marker='o')\n",
    "    plt.title(\"Przykładowy wielokąt y-monotoniczny\")\n",
    "    plt.xlabel(\"Oś x\")\n",
    "    plt.ylabel(\"Oś y\")\n",
    "    plt.grid(True)\n",
    "    plt.show()"
   ]
  },
  {
   "cell_type": "code",
   "execution_count": null,
   "metadata": {},
   "outputs": [],
   "source": [
    "def draw_polygon_colors():\n",
    "    x = np.array([4, 2, 3, 4, 6, 3, 6, 9, 7, 4, 5])\n",
    "    y = np.array([1, 2, 5, 7, 6, 9, 8, 10, 4, 3, 0])\n",
    "    x = np.append(x, x[0])\n",
    "    y = np.append(y, y[0])\n",
    "    colors = ['#3B240B', '#3B240B', '#3B240B', '#3B240B', 'cyan', 'green', 'blue', 'green', '#3B240B', '#3B240B', 'red', '#3B240B']\n",
    "    plt.figure(figsize=(6, 4))\n",
    "    plt.scatter(x, y, c=colors, marker='o') \n",
    "    plt.plot(x, y, linestyle='-', color='black')  \n",
    "    plt.title(\"Wielokąt z pokolorowanymi wierzchołkami\")\n",
    "    plt.xlabel(\"Oś x\")\n",
    "    plt.ylabel(\"Oś y\")\n",
    "    plt.grid(True)\n",
    "    plt.show()\n",
    "\n"
   ]
  },
  {
   "cell_type": "code",
   "execution_count": null,
   "metadata": {},
   "outputs": [],
   "source": [
    "def draw_polygon_tri():\n",
    "    x = np.array([4, 2, 3, 6, 3, 6, 9, 7, 4, 5])  \n",
    "    y = np.array([1, 2, 5, 7, 9, 10, 7, 4, 3, 0])  \n",
    "    x = np.append(x, x[0])\n",
    "    y = np.append(y, y[0])\n",
    "    plt.figure(figsize=(6, 4))\n",
    "    plt.plot(x, y, marker='o')\n",
    "    plt.plot([x[3], x[5]], [y[3], y[5]], 'r-')\n",
    "    plt.plot([x[0], x[8]], [y[0], y[8]], 'r-')\n",
    "    plt.plot([x[1], x[8]], [y[1], y[8]], 'r-')\n",
    "    plt.plot([x[2], x[8]], [y[2], y[8]], 'r-')\n",
    "    plt.plot([x[2], x[7]], [y[2], y[7]], 'r-')\n",
    "    plt.plot([x[3], x[7]], [y[3], y[7]], 'r-')\n",
    "    plt.plot([x[3], x[6]], [y[3], y[6]], 'r-')\n",
    "    plt.title(\"Przykładowy wielokąt y-monotoniczny na którym dokonaliśmy triangulacji\")\n",
    "    plt.xlabel(\"Oś x\")\n",
    "    plt.ylabel(\"Oś y\")\n",
    "    plt.grid(True)\n",
    "    plt.show()\n"
   ]
  },
  {
   "cell_type": "markdown",
   "metadata": {},
   "source": [
    "## Wprowadzenie\n",
    "Celem ćwiczenia jest:\n",
    "- sprawdzanie $y$-monotoniczności\n",
    "- podział wierchołków na kategorie\n",
    "- triangulacja wielokąta monotonicznego"
   ]
  },
  {
   "cell_type": "markdown",
   "metadata": {},
   "source": [
    "### Przykładowy wielokąt $y$-monotoniczny"
   ]
  },
  {
   "cell_type": "code",
   "execution_count": null,
   "metadata": {},
   "outputs": [],
   "source": [
    "draw_polygon()"
   ]
  },
  {
   "cell_type": "markdown",
   "metadata": {},
   "source": [
    "Do tego celu wygeneruj wielokąt za pomocą poniżej podanej funkcji. Punkty podawaj w kierunku przeciwnym do ruchu wskazkówek zegara.\n"
   ]
  },
  {
   "cell_type": "code",
   "execution_count": null,
   "metadata": {},
   "outputs": [],
   "source": [
    "polygon = # funkcja generująca wielokąt"
   ]
  },
  {
   "cell_type": "markdown",
   "metadata": {},
   "source": [
    "## Czy wielokąt jest $y$-monotoniczny?"
   ]
  },
  {
   "cell_type": "markdown",
   "metadata": {},
   "source": [
    "Wielokąt jest monotoniczny, gdy jego wierzchołki mogą być ułożone w taki sposób, że jedna z jego współrzędnych (na przykład współrzędna $x$ lub $y$, w zależności od układu współrzędnych) zawsze rośnie lub maleje wzdłuż kolejnych wierzchołków. Innymi słowy, dla każdej pary wierzchołków wielokąta (oprócz wierzchołka startowego i końcowego), jeden z punktów ma większą (lub mniejszą) wartość danej współrzędnej niż drugi punkt.\n",
    "\n",
    "W praktyce, wielokąt monotoniczny może być łatwiej sortowany lub przetwarzany w pewnych algorytmach geometrycznych, ponieważ istnieje pewna kolejność, w jakiej wierzchołki pojawiają się wzdłuż danej osi (np. osi $x$ lub $y$). Monotoniczność może ułatwić znajdowanie przecięć linii w takim wielokącie lub wykonywanie innych operacji geometrycznych. W tym zadaniu interesuje nas monotoniczność wielokąta wzdłuż osi $y$."
   ]
  },
  {
   "cell_type": "markdown",
   "metadata": {},
   "source": [
    "<span style=\"color:red\">Ćw.</span> Uzupełnij funkcję ```is_y_monotonic```. Pamiętaj, aby sprawozdanie zawierało krótki opis działania tej funkcji."
   ]
  },
  {
   "cell_type": "code",
   "execution_count": null,
   "metadata": {},
   "outputs": [],
   "source": [
    "def is_y_monotonic(polygon):\n",
    "    \"\"\"\n",
    "    Funkcja określa czy podana figura jest y-monotoniczna.\n",
    "    :param polygon: tablica krotek punktów na płaszczyźnie euklidesowej podanych przeciwnie do ruchu wskazówek zegara - nasz wielokąt\n",
    "    :return: wartość bool - true, jeśli wielokąt jest monotoniczny i false jeśli nie jest\n",
    "    \"\"\"\n",
    "\n",
    "    raise Exception(\"Unimplemented\")"
   ]
  },
  {
   "cell_type": "markdown",
   "metadata": {},
   "source": [
    "Przeprowadź test poprawności powyższej funkcji."
   ]
  },
  {
   "cell_type": "code",
   "execution_count": null,
   "metadata": {},
   "outputs": [],
   "source": [
    "#Test().runtest(1, is_y_monotonic)"
   ]
  },
  {
   "cell_type": "markdown",
   "metadata": {},
   "source": [
    "Sprawdź monotoniczność swojego wielokąta."
   ]
  },
  {
   "cell_type": "code",
   "execution_count": null,
   "metadata": {},
   "outputs": [],
   "source": [
    "print(is_y_monotonic(polygon))"
   ]
  },
  {
   "cell_type": "markdown",
   "metadata": {},
   "source": [
    "***"
   ]
  },
  {
   "cell_type": "markdown",
   "metadata": {},
   "source": [
    "# Podział wierzchołków na kategorie"
   ]
  },
  {
   "cell_type": "markdown",
   "metadata": {},
   "source": [
    "Wierzchołki naszego wielokąta możemy podzielić na parę kategorii:\n",
    "- początkowe, gdy obaj jego sąsiedzi leżą poniżej i kąt wewnętrzny ma mniej niż 180 stopni. To wierzchołki, w których wielokąt zaczyna się monotoniczny spadek \n",
    "- końcowe, gdy obaj jego sąsiedzi leżą powyżej i kąt wewnętrzny ma mniej niż 180 stopni. To wierzchołki, w których monotoniczność wielokąta się zmienia, czyli na przykład zaczyna się monotoniczny wzrost, jeśli wcześniej był spadek, lub na odwrót.\n",
    "\n",
    "Wierzchołki startowe i końcowe są ważne w kontekście algorytmów przetwarzania wielokątów monotonicznych, takich jak algorytmy dziel i zwyciężaj oraz triangulacji. \n",
    "- dzielący, gdy obaj jego sąsiedzi leżą poniżej i kąt wewnęntrzny ma więcej niż 180 stopni. To wierzchołki, które wyznaczają przekątne (linie łączące), tworzące trójkąty podczas triangulacji.\n",
    "- łączący, gdy obaj jego sąsiedzi leżą powyżej i kąt wewnęntrzny ma więcej niż 180 stopni. To wierzchołki, które są połączone liniami (przekątnymi) wewnątrz wielokąta, tworząc trójkąty.\n",
    "\n",
    "Wierzchołki łączące i dzielące odgrywają kluczową rolę w procesie triangulacji wielokątów, pozwalając na podział figury na trójkąty w sposób bezkolizyjny. \n",
    "- prawdiłowy, pozostałe przypadki, jeden sąsiad powyżej drugi poniżej\n"
   ]
  },
  {
   "cell_type": "markdown",
   "metadata": {},
   "source": [
    "### Przykładowy wielokąt z pokolorowanymi wierzchołkami."
   ]
  },
  {
   "cell_type": "code",
   "execution_count": null,
   "metadata": {},
   "outputs": [],
   "source": [
    "draw_polygon_colors()"
   ]
  },
  {
   "cell_type": "markdown",
   "metadata": {},
   "source": [
    "<span style=\"color:red\">Ćw.</span> Uzupełnij funkcję ```color_vertex``` ."
   ]
  },
  {
   "cell_type": "code",
   "execution_count": null,
   "metadata": {},
   "outputs": [],
   "source": [
    "def color_vertex(polygon):\n",
    "    \"\"\"\n",
    "\n",
    "    Funkcja dzieli wierzchołki na kategorie i przypisuje wierzchołkom odpowiednie numery: 0 - początkowy, 1 - końcowy, 2 - łączący, 3 - dzielący, 4 - prawdiłowy\n",
    "    :param polygon: tablica krotek punktów na płaszczyźnie euklidesowej podanych przeciwnie do ruchu wskazówek zegara - nasz wielokąt\n",
    "    :return: tablica o długości n, gdzie n = len(polygon), zawierająca cyfry z przedziału 0 - 4, gdzie T[i] odpowiada kategorii i-tego wierzchołka.\n",
    "    \"\"\"\n",
    "    \n",
    "\n",
    "    raise Exception(\"Unimplemented\")"
   ]
  },
  {
   "cell_type": "markdown",
   "metadata": {},
   "source": [
    "Przeprowadź test poprawności powyższej funkcji. "
   ]
  },
  {
   "cell_type": "code",
   "execution_count": null,
   "metadata": {},
   "outputs": [],
   "source": [
    "#Test().runtest(2, color_vertex)"
   ]
  },
  {
   "cell_type": "markdown",
   "metadata": {},
   "source": [
    "Zwizualizuj swój wielokąt z pokolorowanymi według kategorii wierzchołkami."
   ]
  },
  {
   "cell_type": "code",
   "execution_count": null,
   "metadata": {},
   "outputs": [],
   "source": [
    "# wizualizacja"
   ]
  },
  {
   "cell_type": "markdown",
   "metadata": {},
   "source": [
    "***"
   ]
  },
  {
   "cell_type": "markdown",
   "metadata": {},
   "source": [
    "# Triangulacja wielokąta monotonicznego"
   ]
  },
  {
   "cell_type": "markdown",
   "metadata": {},
   "source": [
    "Triangulacja wielokąta monotonicznego to proces podziału wielokąta monotonicznego na trójkąty poprzez dodawanie przekątnych (linii łączących wierzchołki), które nie przecinają się wewnętrznie."
   ]
  },
  {
   "cell_type": "markdown",
   "metadata": {},
   "source": [
    "### Przykładowy wielokąt podzielony na trójkąty."
   ]
  },
  {
   "cell_type": "code",
   "execution_count": null,
   "metadata": {},
   "outputs": [],
   "source": [
    "draw_polygon_tri()"
   ]
  },
  {
   "cell_type": "markdown",
   "metadata": {},
   "source": [
    "<span style=\"color:red\">Ćw.</span> Uzupełnij funkcję ```triangulation```. Wykorzystaj algorytm opisany na wykładzie."
   ]
  },
  {
   "cell_type": "code",
   "execution_count": null,
   "metadata": {},
   "outputs": [],
   "source": [
    "def triangulation(polygon):\n",
    "    \"\"\"\n",
    "\n",
    "    Funkcja dokonuje triangulacji wielokąta monotonicznego. \n",
    "    :param polygon: tablica krotek punktów na płaszczyźnie euklidesowej podanych przeciwnie do ruchu wskazówek zegara - nasz wielokąt\n",
    "    :return: tablica krotek dodawanych po kolei przekątnych np: [(1,5),(2,3)], oznacza, że triangulacja polega na dodaniu przekątnej pomiędzy wierzchołki 1-5 i 2-3\n",
    "    \"\"\""
   ]
  },
  {
   "cell_type": "markdown",
   "metadata": {},
   "source": [
    "Jakich struktur można użyć do przechowywania wielokątu, oraz utworzonej triangulacji? Uzasadnij wybór struktury w swoim algorytmie"
   ]
  },
  {
   "cell_type": "markdown",
   "metadata": {},
   "source": [
    "ODPOWIEDŹ: "
   ]
  },
  {
   "cell_type": "markdown",
   "metadata": {},
   "source": [
    "Przeprowadź testy poprawności powyższej funkcji.\n"
   ]
  },
  {
   "cell_type": "code",
   "execution_count": null,
   "metadata": {},
   "outputs": [],
   "source": [
    "#Test().runtest(3, triangulation)"
   ]
  },
  {
   "cell_type": "markdown",
   "metadata": {},
   "source": [
    "Zwizualizuj powstały wielokąt podzielony na trójkąty."
   ]
  },
  {
   "cell_type": "code",
   "execution_count": null,
   "metadata": {},
   "outputs": [],
   "source": [
    "# wizualizacja"
   ]
  },
  {
   "cell_type": "markdown",
   "metadata": {},
   "source": [
    "Wykonaj ćwiczenie dla różnych wielokątów. Uzasadnij wybór wielokątu. Wnioski opisz w sprawozdaniu.\n",
    "\n",
    "WNIOSKI HERE"
   ]
  }
 ],
 "metadata": {
  "kernelspec": {
   "display_name": "Python 3 (ipykernel)",
   "language": "python",
   "name": "python3"
  },
  "language_info": {
   "codemirror_mode": {
    "name": "ipython",
    "version": 3
   },
   "file_extension": ".py",
   "mimetype": "text/x-python",
   "name": "python",
   "nbconvert_exporter": "python",
   "pygments_lexer": "ipython3",
   "version": "3.10.9"
  }
 },
 "nbformat": 4,
 "nbformat_minor": 2
}
