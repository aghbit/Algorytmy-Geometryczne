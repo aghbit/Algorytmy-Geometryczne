{
 "cells": [
  {
   "cell_type": "markdown",
   "metadata": {},
   "source": [
    "# Otoczka wypukła"
   ]
  },
  {
   "cell_type": "code",
   "execution_count": 1,
   "metadata": {},
   "outputs": [],
   "source": [
    "import numpy as np\n",
    "import pandas as pd\n",
    "from bitalg.tests.test2 import Test\n",
    "from bitalg.visualizer.main import Visualizer\n",
    "from scipy.spatial import ConvexHull\n",
    "import matplotlib.pyplot as plt\n"
   ]
  },
  {
   "cell_type": "markdown",
   "metadata": {},
   "source": [
    "Testy wizualizacji"
   ]
  },
  {
   "cell_type": "code",
   "execution_count": 2,
   "metadata": {},
   "outputs": [
    {
     "data": {
      "image/png": "[encoded data removed]",
      "text/plain": [
       "<Figure size 640x480 with 1 Axes>"
      ]
     },
     "metadata": {},
     "output_type": "display_data"
    }
   ],
   "source": [
    "viz = Visualizer()\n",
    "viz.add_line_segment(((0,0), (0,4)))\n",
    "viz.add_point((-1, -2), color = 'red')\n",
    "viz.add_point((-1, -2), color = \"blue\")\n",
    "viz.add_line_segment(((-2, -2), (2,2)))\n",
    "viz.show()"
   ]
  },
  {
   "cell_type": "markdown",
   "metadata": {},
   "source": [
    "Test testów"
   ]
  },
  {
   "cell_type": "code",
   "execution_count": 3,
   "metadata": {},
   "outputs": [],
   "source": [
    "def func(poitns):\n",
    "    return [(1, 2), (3, 4), (5, 6)]"
   ]
  },
  {
   "cell_type": "code",
   "execution_count": 4,
   "metadata": {},
   "outputs": [
    {
     "name": "stdout",
     "output_type": "stream",
     "text": [
      "Lab 2, task 1:\n",
      "\tTest 1: WRONG ANSWER\n",
      "\t\tOutput:   [(1, 2), (3, 4), (5, 6)]\n",
      "\t\tExpected: [(1.0, 1.0), (4.0, 1.0), (4.0, 4.0), (1.0, 4.0)]\n",
      "\tTest 2: WRONG ANSWER\n",
      "\t\tOutput:   [(1, 2), (3, 4), (5, 6)]\n",
      "\t\tExpected: [(1.0, 1.0)]\n",
      "\tTest 3: WRONG ANSWER\n",
      "\t\tOutput:   [(1, 2), (3, 4), (5, 6)]\n",
      "\t\tExpected: [(1.0, 1.0), (2.0, 2.0)]\n",
      "\tTest 4: WRONG ANSWER\n",
      "\t\tOutput:   [(1, 2), (3, 4), (5, 6)]\n",
      "\t\tExpected: [(1.0, 1.0), (100.0, 100.0)]\n",
      "\tTest 5: WRONG ANSWER\n",
      "\t\tOutput:   [(1, 2), (3, 4), (5, 6)]\n",
      "\t\tExpected: [(-0.9998456727740328, 0.017567886470535515), (-0.9999066111976357, 0.013666341253615146), (-0.9999097856527912, 0.013432071909764622), (-0.9999131277882609, 0.01318092852180958), (-0.9999151687762107, 0.013025177589655271), (-0.9999236593517755, 0.012356191506870385), (-0.9999295253527812, 0.01187199763146682), (-0.9999341564245192, 0.011475313310...\n",
      "\tTest 6: WRONG ANSWER\n",
      "\t\tOutput:   [(1, 2), (3, 4), (5, 6)]\n",
      "\t\tExpected: [(5.540700064157875, -99.99151019434179), (98.36082104462892, -99.9365882642427), (99.16506912343178, -96.96638754230963), (99.2030714011018, -95.63800281580295), (99.82865995857244, -69.5051097696755), (99.98191128522018, -47.29169166359475), (99.98687747926724, 55.653896809144754), (99.95225513261758, 97.95062583480544), (99.90198658069798, 99.01...\n",
      "\tTest 7: WRONG ANSWER\n",
      "\t\tOutput:   [(1, 2), (3, 4), (5, 6)]\n",
      "\t\tExpected: [(1.9994172184398922, -0.30155117251025665), (1.998605756057915, 1.9582113166083608), (1.9899967216573242, 1.9786636842995633), (1.9300256064351187, 1.985680392163646), (1.9212654810242276, 1.9866854586191947), (1.8424880857960941, 1.9939777492893462), (1.3119080128711182, 1.9967346939407893), (0.815863005853112, 1.9984917445333923), (-0.7531308031...\n",
      "\tTest 8: WRONG ANSWER\n",
      "\t\tOutput:   [(1, 2), (3, 4), (5, 6)]\n",
      "\t\tExpected: [(-9.99920936032601e-10, 2.3464409643053305e-10), (-9.998478476142415e-10, -6.612378025379458e-10), (-9.982190210924327e-10, -7.364787668757562e-10), (-9.925273310453238e-10, -9.951014364439659e-10), (-9.32386421555203e-10, -9.996517072241096e-10), (3.5192864828680724e-10, -9.999737017848142e-10), (5.695966524614045e-10, -9.999574139117813e-10), (7...\n",
      "\tTest 9: WRONG ANSWER\n",
      "\t\tOutput:   [(1, 2), (3, 4), (5, 6)]\n",
      "\t\tExpected: [(-98.92626151979, 99.0), (-99.0, 98.90060283777726), (-99.0, -98.81943551511642), (-98.86010739059158, -99.0), (98.9668868184126, -99.0), (99.0, -98.98981089336407), (99.0, 98.97839492836869), (98.97313209577547, 99.0)]\n",
      "\tTest 10: WRONG ANSWER\n",
      "\t\tOutput:   [(1, 2), (3, 4), (5, 6)]\n",
      "\t\tExpected: [(2.9999804547189286, -0.00065842187547357), (-1.2491783131935992, 2.724706268506895), (-1.2588861312870825, 2.7214787522315733), (-1.2924689897372097, 2.70697731973898), (-1.3942555881239431, 2.655560047280213), (-1.4235043146500765, 2.6405204935859783), (-1.4460082061332207, 2.62770244924426), (-1.4732657484302745, 2.611985058906677), (-1.5109546...\n",
      "\tTest 11: WRONG ANSWER\n",
      "\t\tOutput:   [(1, 2), (3, 4), (5, 6)]\n",
      "\t\tExpected: [(2.9999978992185663, -2.0927309532067398e-05), (-1.2485375638735479, 2.727839366084395), (-1.2487381694042077, 2.727755468235654), (-1.2497209228588917, 2.7273053789980044), (-1.2534996245091412, 2.725570580378685), (-1.255025545364526, 2.724867969228775), (-1.2565849722682152, 2.7241498478105917), (-1.2578820940938173, 2.7235513889205603), (-1.26...\n",
      "Result: 0/11\n"
     ]
    }
   ],
   "source": [
    "test = Test()\n",
    "test.runtest(func)"
   ]
  },
  {
   "cell_type": "markdown",
   "metadata": {},
   "source": [
    "### Wprowadzenie"
   ]
  },
  {
   "cell_type": "markdown",
   "metadata": {},
   "source": [
    "Czym jest otoczka wypukła?  \n",
    "Podzbiór płaszczyzny $Q$ nazywamy wypukłym iff, gdy dla dowolnej pary punktów $p, q \\in Q$ odcinek $\\overline{pq}$ jest całkowicie zawarty w $Q$.  \n",
    "Otoczka wypukła $\\mathcal{CH}(Q)$ zbioru $Q$ jest najmniejszym wypukłym zbiorem zawierającym $Q$."
   ]
  },
  {
   "cell_type": "markdown",
   "metadata": {},
   "source": [
    "### Zastosowania otoczku wypukłej"
   ]
  },
  {
   "cell_type": "markdown",
   "metadata": {},
   "source": [
    "Otoczki wypukłe - w szczególności otoczki wypukłe w przestrzeni trójwymiarowej - są spotykane w różnych zastosowaniach. Na przykład używa się ich do przyspieszania wykrywania kolizji w animacji komputerowej. Przepuśćmy, że chcemy sprawdzić, czy dwa obiekty $\\mathcal{P_1}$ i $\\mathcal{P_2}$ przecinają się. Jeśli przez większość czasu odpowiedź na to pytanie jest negatywna, to opłaca się następująca strategia. Przybliżamy obiekty przez prostrze obiekty $\\widehat{\\mathcal{P_1}}$ i $\\widehat{\\mathcal{P_2}}$, które zawierały orginały. Jeśli chcemy sprwadzić, czy $\\mathcal{P_1}$ i $\\mathcal{P_2}$ przecinają się, najpierw sprawdzamy, czy przecinają się $\\widehat{\\mathcal{P_1}}$ i $\\widehat{\\mathcal{P_2}}$. Jeśli występuje ten przypadek, to powinniśmy wykonać test na orginalnych obiektach, który jest przepuszczalnie znacznie kosztowniejszy.  \n",
    "Sprawdzanie przecięcia otoczek wypukłych jest bardziej skomplikowane niż dla sfer - choć mimo to łatwiejsze niż dla obiektów niewypukłych - ale otoczki wypukłe mogą dużo lepiej przybliżać większość obiektów."
   ]
  },
  {
   "cell_type": "markdown",
   "metadata": {},
   "source": [
    "## Generowanie losowych punktów na płaszczyźnie "
   ]
  },
  {
   "cell_type": "markdown",
   "metadata": {},
   "source": [
    "Zapoznaliśmy się i wiemy jak generowac losowe punkty na płaszczyźnie z laboratorium I (współrzędne rzeczywiste typu *double* - podwójna precyzja obliczeń). Przygotuj zestawy punktów, które będzie można użyć jako testowe dla algorytmów obliczania otoczki wypukłej."
   ]
  },
  {
   "cell_type": "markdown",
   "metadata": {},
   "source": [
    "Uzupełnij funkcję ```generate_uniform_points```."
   ]
  },
  {
   "cell_type": "code",
   "execution_count": 5,
   "metadata": {},
   "outputs": [],
   "source": [
    "def generate_uniform_points(left=-100, right=100, n=100):\n",
    "    \"\"\"\n",
    "    Funkcja generuje równomiernie n punktów na kwadwratowym\n",
    "    obszarze od left do right (jednakowo na osi y)\n",
    "    o współrzędnych rzeczywistych\n",
    "    :param left: lewy kraniec przedziału\n",
    "    :param right: prawy kraniec przedziału\n",
    "    :param n: ilość generowanych punktów\n",
    "    :return: tablica punktów w postaci krotek współrzędnych\n",
    "             np. [(x1, y1), (x2, y2), ... (xn, yn)]\n",
    "    \"\"\"\n",
    "    listOfPoints1 = [(np.random.uniform(left, right),np.random.uniform(left, right)) for _ in range(n)]\n",
    "    return listOfPoints1\n",
    "    raise Exception(\"Unimplemented\")"
   ]
  },
  {
   "cell_type": "markdown",
   "metadata": {},
   "source": [
    "<span style=\"color:red\">Ćw.</span> Wygeneruj $100$ losowych punktów w przestrzeni 2D o współrzędnych z przedziału $x \\in \\langle -100,100 \\rangle$ oraz $y \\in \\langle -100,100\\rangle$."
   ]
  },
  {
   "cell_type": "code",
   "execution_count": 6,
   "metadata": {},
   "outputs": [],
   "source": [
    "points_a = generate_uniform_points(-100, 100, 100)"
   ]
  },
  {
   "cell_type": "markdown",
   "metadata": {},
   "source": [
    "Zwizualizuj wygenerowane punkty."
   ]
  },
  {
   "cell_type": "code",
   "execution_count": 7,
   "metadata": {},
   "outputs": [
    {
     "data": {
      "image/png": "[encoded data removed]",
      "text/plain": [
       "<Figure size 640x480 with 1 Axes>"
      ]
     },
     "metadata": {},
     "output_type": "display_data"
    }
   ],
   "source": [
    "viz = Visualizer()\n",
    "viz.add_point(points_a)\n",
    "viz.show()\n",
    "# visualize(points_a)"
   ]
  },
  {
   "cell_type": "markdown",
   "metadata": {},
   "source": [
    "Uzupełnij funkcję ```generate_circle_points```."
   ]
  },
  {
   "cell_type": "code",
   "execution_count": 8,
   "metadata": {},
   "outputs": [],
   "source": [
    "def generate_circle_points(O, R, n=100):\n",
    "    \"\"\"\n",
    "    Funkcja generuje jednostajnie n punktów na okręgu o środku O i promieniu R\n",
    "    :param O: krotka współrzędnych x, y określająca środek okręgu\n",
    "    :param R: promień okręgu\n",
    "    :param n: ilość generowanych punktów\n",
    "    :return: tablica punktów w postaci krotek współrzędnych\n",
    "    \"\"\"\n",
    "    listOfPoints2 = []\n",
    "    for _ in range(n):\n",
    "        t = np.random.random() * (np.pi*2)\n",
    "        listOfPoints2.append((R * np.cos(np.pi/2 * t) + O[0], R * np.sin(np.pi/2 * t) + O[1]))\n",
    "    return listOfPoints2\n",
    "    raise Exception(\"Unimplemented\")"
   ]
  },
  {
   "cell_type": "markdown",
   "metadata": {},
   "source": [
    "<span style=\"color:red\">Ćw.</span> Wygeneruj $100$ losowych punktów w przestrzeni 2D leżących na okręgu o środku $O = (0,0)$ i promieniu $R = 10$."
   ]
  },
  {
   "cell_type": "code",
   "execution_count": 9,
   "metadata": {},
   "outputs": [],
   "source": [
    "points_b = generate_circle_points((0, 0), 10, 100)"
   ]
  },
  {
   "cell_type": "markdown",
   "metadata": {},
   "source": [
    "Zwizualizuj wygenerowane punkty."
   ]
  },
  {
   "cell_type": "code",
   "execution_count": 10,
   "metadata": {},
   "outputs": [
    {
     "data": {
      "image/png": "[encoded data removed]",
      "text/plain": [
       "<Figure size 640x480 with 1 Axes>"
      ]
     },
     "metadata": {},
     "output_type": "display_data"
    }
   ],
   "source": [
    "viz.clear()\n",
    "viz.add_point(points_b)\n",
    "viz.show()\n",
    "# visualize(points_b)"
   ]
  },
  {
   "cell_type": "markdown",
   "metadata": {},
   "source": [
    "Jak można było zauważyć, to funkcje ```generate_uniform_points``` oraz ```generate_circle_points``` są takie same jak w laboratorium I."
   ]
  },
  {
   "cell_type": "markdown",
   "metadata": {},
   "source": [
    "Uzupełnij funkcję ```generate_rectangle_points```."
   ]
  },
  {
   "cell_type": "code",
   "execution_count": 11,
   "metadata": {},
   "outputs": [],
   "source": [
    "def generate_rectangle_points(a=(-10, -10), b=(10, -10), c=(10, 10), d=(-10, 10), n=100):\n",
    "    '''\n",
    "    Funkcja generuje n punktów na obwodzie prostokąta\n",
    "    o wierzchołkach w punktach a, b, c i d\n",
    "    :param a: lewy-dolny wierzchołek prostokąta\n",
    "    :param b: prawy-dolny wierzchołek prostokąta\n",
    "    :param c: prawy-górny wierzchołek prostokąta\n",
    "    :param d: lewy-górny wierzchołek prostokąta\n",
    "    :param n: ilość generowanych punktów\n",
    "    :return: tablica punktów w postaci krotek współrzędnych\n",
    "    '''\n",
    "    listOfChoices = [\"[-1,random]\",\"[random,-1]\",\"[random,1]\",\"[1,random]\"] \n",
    "    listOfPoints3 = []\n",
    "    #  vertexRect = (-10, 10), (-10,-10), (10,-10), (10,10)\n",
    "    for _ in range(n):\n",
    "        myChoice = np.random.choice(listOfChoices)\n",
    "        if myChoice == \"[1,random]\":\n",
    "            listOfPoints3.append((b[0],np.random.uniform(b[1],c[1])))\n",
    "        elif myChoice == \"[-1,random]\":\n",
    "            listOfPoints3.append((a[0],np.random.uniform(a[1],d[1])))\n",
    "        elif myChoice == \"[random,1]\":\n",
    "            listOfPoints3.append((np.random.uniform(d[0],c[0]),d[1]))\n",
    "        else:\n",
    "            listOfPoints3.append((np.random.uniform(a[0],b[0]),a[1]))\n",
    "    return listOfPoints3\n",
    "    raise Exception(\"Unimplemented\")\n"
   ]
  },
  {
   "cell_type": "markdown",
   "metadata": {},
   "source": [
    "<span style=\"color:red\">Ćw.</span> Wygeneruj $100$ losowych punktów w przestrzeni 2D leżących na obwodzie prostokąta, którego wyznaczają wierzchołki\n",
    "$(-10,-10), (10,-10), (10,10)$ oraz $(-10,10)$."
   ]
  },
  {
   "cell_type": "code",
   "execution_count": 12,
   "metadata": {},
   "outputs": [],
   "source": [
    "points_c = generate_rectangle_points(\n",
    "    (-10, -10), (10, -10), (10, 10), (-10, 10), 100)"
   ]
  },
  {
   "cell_type": "markdown",
   "metadata": {},
   "source": [
    "Zwizualizuj wygenerowane punkty."
   ]
  },
  {
   "cell_type": "code",
   "execution_count": 13,
   "metadata": {},
   "outputs": [
    {
     "data": {
      "image/png": "[encoded data removed]",
      "text/plain": [
       "<Figure size 640x480 with 1 Axes>"
      ]
     },
     "metadata": {},
     "output_type": "display_data"
    }
   ],
   "source": [
    "viz.clear()\n",
    "viz.add_point(points_c)\n",
    "viz.show()\n",
    "# visualize(points_c)"
   ]
  },
  {
   "cell_type": "markdown",
   "metadata": {},
   "source": [
    "Uzupełnij funkcję ```generate_square_points```."
   ]
  },
  {
   "cell_type": "code",
   "execution_count": 14,
   "metadata": {},
   "outputs": [],
   "source": [
    "def generate_square_points(\n",
    "    a=(0, 0), b=(10, 0), c=(10, 10), d=(0, 10), axis_n=25, diag_n=20\n",
    "):\n",
    "    \"\"\"\n",
    "    Funkcja generuje axis_n punktów na dwóch bokach kwadratu\n",
    "    leżących na osiach x i y oraz diag_n punktów na\n",
    "    przektąnych kwadratu, którego wyznaczają punkty\n",
    "    a, b, c i d.\n",
    "    :param a: lewy-dolny wierzchołek kwadratu\n",
    "    :param b: prawy-dolny wierzchołek kwadratu\n",
    "    :param c: prawy-górny wierzchołek kwadratu\n",
    "    :param d: lewy-górny wierzchołek kwadratu\n",
    "    :param axis_n: ilość generowanych punktów na każdym\n",
    "                   z dwóch boków kwadratu równoległych do osi x i y\n",
    "    :param diag_n: ilość generowanych punktów na każdej\n",
    "                   przekątnej kwadratu\n",
    "    :return: tablica punktów w postaci krotek współrzędnych\n",
    "    \"\"\"\n",
    "    vertexSqr = [a, b, c, d]\n",
    "    listOfPoints4 = vertexSqr\n",
    "    i = 0\n",
    "    while i < axis_n:\n",
    "        k = (a[0], np.random.uniform(a[1], c[1]))\n",
    "        if k in vertexSqr:\n",
    "            continue\n",
    "\n",
    "        listOfPoints4.append(k)\n",
    "        i += 1\n",
    "\n",
    "    # axis x\n",
    "    i = 0\n",
    "    while i < axis_n:\n",
    "        k = (np.random.uniform(a[0], b[0]), a[1])\n",
    "        if k in vertexSqr:\n",
    "            continue\n",
    "\n",
    "        listOfPoints4.append(k)\n",
    "        i += 1\n",
    "\n",
    "    # growing diagonal\n",
    "    i = 0\n",
    "    while i < diag_n:\n",
    "        randK = np.random.uniform(a[0], b[0])\n",
    "        k = (randK, randK)\n",
    "        if k in vertexSqr:\n",
    "            continue\n",
    "        listOfPoints4.append(k)\n",
    "        i += 1\n",
    "\n",
    "    # falling diagonal\n",
    "    i = 0\n",
    "    while i < diag_n:\n",
    "        randK = np.random.uniform(a[0], b[0])\n",
    "        k = (randK, c[1] - randK)\n",
    "        if k in vertexSqr:\n",
    "            continue\n",
    "\n",
    "        listOfPoints4.append(k)\n",
    "        i += 1\n",
    "    return listOfPoints4\n",
    "    raise Exception(\"Unimplemented\")"
   ]
  },
  {
   "cell_type": "markdown",
   "metadata": {},
   "source": [
    "<span style=\"color:red\">Ćw.</span> Wygeneruj losowe punktów w przestrzeni 2D w następujący sposób: po 25 punktów na dwóch bokach kwadratu leżących na osiach i po 20 punktów na przekątnych kwadratu, którego wyznaczają wierzchołki $(0, 0), (10, 0), (10, 10)$ oraz $(0, 10)$."
   ]
  },
  {
   "cell_type": "code",
   "execution_count": 15,
   "metadata": {},
   "outputs": [],
   "source": [
    "points_d = generate_square_points(\n",
    "    (0, 0), (10, 0), (10, 10), (0, 10), 25, 20)\n"
   ]
  },
  {
   "cell_type": "markdown",
   "metadata": {},
   "source": [
    "Zwizualizuj wygenerowane punkty."
   ]
  },
  {
   "cell_type": "code",
   "execution_count": 16,
   "metadata": {},
   "outputs": [
    {
     "data": {
      "image/png": "[encoded data removed]",
      "text/plain": [
       "<Figure size 640x480 with 1 Axes>"
      ]
     },
     "metadata": {},
     "output_type": "display_data"
    }
   ],
   "source": [
    "# visualize(points_d)\n",
    "viz.clear()\n",
    "viz.add_point(points_d)\n",
    "viz.show()\n"
   ]
  },
  {
   "cell_type": "markdown",
   "metadata": {},
   "source": [
    "## Algorytm Grahama oraz algorytm Jarvisa"
   ]
  },
  {
   "cell_type": "markdown",
   "metadata": {},
   "source": [
    "Po przygotowaniu przykładowych zbiorów danych i ich zwizualizowaniu, chcemy zobaczyć jak buduje się dla nich otoczka wypukła z wykorzystaniem różnych algortymów.  \n",
    "W tych dwóch algorytmach potrzebna będzie funkcja którą już dobrze znamy, czyli funkcja, która sprawdza po której stornie prostej znajduje się punkt.  \n",
    "Dla każdego algorytmu trzeba będzie zaimplementować dwie funkcje obliczające otoczkę wypukłę, ze względu, że jedna z nich będzie miała możliwość wyświetlania kroków postępowania w algorytmie. Druga funkcja będzie uzyteczna do porównywania czasów dla różnych zbiorów danych i względęm algorytmów.  \n",
    "W graficznej funkcji danego algorytmu, jednym kolorem powinny być zaznaczone wszystkie punkty zbioru wyjściowego, drugim kolorem boki aktualne rozpatrywane, a trzecim boki wielokąta otoczki. Po zakończeniu wyznaczania otoczki, wierzchołki otoczki powinny być wyróżnione (osobnym kolorem bądź kształtem).  "
   ]
  },
  {
   "cell_type": "markdown",
   "metadata": {},
   "source": [
    "### Algorytm Grahama"
   ]
  },
  {
   "cell_type": "markdown",
   "metadata": {},
   "source": [
    "Algorytm Grahama tworzy otoczkę wypukłą poprzez utrzymywanie stosu $S$, w którym znajdują się punkty, które mogą, ale nie muszą tworzyć otoczki wypukłej. Za każdym razem jest wstawiany na stos (push) jeden punkt z zbioru punktów $Q$ i jest on usuwany ze stosu (pop), jeżeli nie jest punktem $\\mathcal{CH}(Q)$. Kiedy algorytm kończy się, stos $S$ zawiera tylko punkty otoczki wypukłej $\\mathcal{CH}(Q)$ w kierunku przeciwnym do ruchu wskazówek zegera.\n",
    "\n",
    "---\n",
    "\n",
    "Procedura $\\mathtt{Graham-Build(Q)}$ przyjmuje zbiór punktów $Q$, gdzie $|Q| \\geq 3$. Wywołuje ona funkcję $\\mathtt{TOP(S)}$, która zwraca punkt z góry stosu bez zmieniania $S$ oraz\n",
    "$\\mathtt{NEXT-TO-TOP(S)}$, która zwraca punkt ponieżej góry stosu $S$, bez zmieniania stosu. Funkcja $\\mathtt{PUSH(p, S)}$ wstawia punkt $p$ na stos $S$. Funkcja $\\mathtt{POP(p, S)}$ usuwa punkt $p$ ze stosu $S$."
   ]
  },
  {
   "cell_type": "markdown",
   "metadata": {},
   "source": [
    "$\\mathtt{Graham-Build(Q)}$  \n",
    "1)  niech $p_0$ będzie punktem w zbiorze Q z najmniejszą współrzędną $y$,  \n",
    "    oraz najmniejszą współrzędną $x$ w przypadku, gdy wiele punktów ma tą samą współrzędną $x$  \n",
    "    \n",
    "2)  nich $\\mathtt{\\langle p_1, p_2, \\dots, p_m \\rangle}$ będzie pozostałym zbiorem punktów w $Q$ posortowanym  \n",
    "    zgodnie z przeciwnym ruchem wskazówek zegara wokół punktu $p_0$  \n",
    "    (jeżeli więcej niż jeden punkt ma ten sam kąt to usuwamy wszystkie punkty  \n",
    "     z wyjątkiem tego najbardziej oddalonego od $p_0$)  \n",
    "3) stwórz pusty stos $S$  \n",
    "4) $\\mathtt{PUSH(p_0, S)}$\n",
    "5) $\\mathtt{PUSH(p_1, S)}$\n",
    "6) $\\mathtt{PUSH(p_2, S)}$\n",
    "7) **for** $i = 3$ **to** m  \n",
    "8) &emsp;**while** kąt utworzony przez $\\mathtt{NEXT-TO-TOP(S)}$, $\\mathtt{TOP(S)}$ oraz $p_i$ tworzy lewostronny skręt\n",
    "9) &emsp;&emsp;$\\mathtt{POP(S)}$\n",
    "10) &emsp;$\\mathtt{PUSH(p_i, S)}$\n",
    "11) **return** $S$"
   ]
  },
  {
   "cell_type": "markdown",
   "metadata": {},
   "source": [
    "\n",
    "---\n",
    "\n",
    "Lewostronny skręt oznacza, że dla trzech kolejnych punktów $a, b, c$, punkt $b$ leży po lewej stronie prostej $ac$.  \n",
    "  \n",
    "\n",
    "<span style=\"color:red\">Ćw.</span> Uzupełnij funkcję ```graham_algorithm```, która oblicza otoczkę wypukłą korzystając z algorytmu Grahama."
   ]
  },
  {
   "cell_type": "code",
   "execution_count": 17,
   "metadata": {},
   "outputs": [],
   "source": [
    "def graham_algorithm(Q):\n",
    "    '''\n",
    "    Funkcja buduje otoczkę wypukłą dla podanego\n",
    "    zbioru punktów Q algorymem Grahama \n",
    "    :parm Q: zbiór punktów\n",
    "    :return: tablica punktów w postaci krotek współrzędnych\n",
    "    '''\n",
    "    epsilon = 10e-30\n",
    "    p0 = min(Q, key=lambda x: (x[1],x[0]))   \n",
    "\n",
    "    def distance(a, b):\n",
    "        return np.sqrt((a[0]-b[0])**2 + (a[1]-b[1])**2)\n",
    "\n",
    "    def orient(p,q,r):\n",
    "        result = ((p[0] - r[0])*(q[1] - r[1]) - (p[1] - r[1])*(q[0] - r[0]))\n",
    "        if result > epsilon:\n",
    "            return 1\n",
    "        elif result < -epsilon:\n",
    "            return -1\n",
    "        else:\n",
    "            return 0\n",
    "\n",
    "    def partition(A,p,r):\n",
    "        x = A[r]\n",
    "        i = p-1\n",
    "        for j in range(p,r):\n",
    "            result = orient(p0, A[j], x)\n",
    "            if result == 1 or (result == 0 and distance(p0, A[j]) > distance(p0, x)):\n",
    "                i+=1\n",
    "                A[i],A[j] = A[j],A[i]\n",
    "\n",
    "        A[i+1],A[r] = A[r],A[i+1]\n",
    "        return i+1\n",
    "\n",
    "    def quicksort(A,p,r):\n",
    "        if len(A) == 1:\n",
    "            return A\n",
    "        if p < r:\n",
    "            q = partition(A,p,r)\n",
    "            quicksort(A,p,q-1)\n",
    "            quicksort(A,q+1,r)\n",
    "\n",
    "    points = Q.copy()\n",
    "\n",
    "    points.remove(p0)\n",
    "\n",
    "    quicksort(points, 0, len(points)-1)\n",
    "\n",
    "    points = [p0] + points\n",
    "\n",
    "    stack = []\n",
    "    if len(points) < 3: return points\n",
    "    stack.append(points[0])\n",
    "    stack.append(points[1])\n",
    "    stack.append(points[2])\n",
    "\n",
    "    i = 3\n",
    "    while i < len(points):\n",
    "        if orient(stack[-2], stack[-1], points[i]) == 1:\n",
    "            \n",
    "            stack.append(points[i])\n",
    "            i = i + 1\n",
    "        elif orient(stack[-2], stack[-1], points[i]) == 0:\n",
    "            stack.pop()\n",
    "            stack.append(points[i])\n",
    "            i = i + 1\n",
    "        else:\n",
    "            stack.pop()\n",
    "    \n",
    "    if orient(stack[-2], stack[-1], p0) == 0:\n",
    "        stack.pop()\n",
    "\n",
    "    \n",
    "    return stack\n",
    "\n",
    "    raise Exception(\"Unimplemented\")"
   ]
  },
  {
   "cell_type": "markdown",
   "metadata": {},
   "source": [
    "<span style=\"color:red\">Ćw.</span> Uzupełnij funkcję ```graham_algorithm_draw```, która oblicza otoczkę wypukłą korzystając z algorytmu Grahama z dodatkową opcją wyświetlania kroków algorytmu."
   ]
  },
  {
   "cell_type": "code",
   "execution_count": 18,
   "metadata": {},
   "outputs": [],
   "source": [
    "def graham_algorithm_draw(Q):\n",
    "    '''\n",
    "    Funkcja buduje otoczkę wypukłą dla podanego\n",
    "    zbioru punktów Q algorymem Grahama oraz \n",
    "    pokazuje poszczególne kroki algorymu\n",
    "    :parm Q: zbiór punktów\n",
    "    :return: tablica punktów w postaci krotek współrzędnych\n",
    "    '''\n",
    "    return Exception(\"Unimplemented\")"
   ]
  },
  {
   "cell_type": "markdown",
   "metadata": {},
   "source": [
    "Przetestuj swoją implementacje algorytmu Grahama, by sprawdzić czy poprawnie obliczana jest otoczka."
   ]
  },
  {
   "cell_type": "code",
   "execution_count": 19,
   "metadata": {},
   "outputs": [
    {
     "name": "stdout",
     "output_type": "stream",
     "text": [
      "Lab 2, task 1:\n",
      "\tTest 1: Passed\n",
      "\tTest 2: Passed\n",
      "\tTest 3: Passed\n",
      "\tTest 4: Passed\n",
      "\tTest 5: Passed\n",
      "\tTest 6: Passed\n",
      "\tTest 7: Passed\n",
      "\tTest 8: "
     ]
    },
    {
     "name": "stdout",
     "output_type": "stream",
     "text": [
      "Passed\n",
      "\tTest 9: Passed\n",
      "\tTest 10: Passed\n",
      "\tTest 11: Passed\n",
      "Result: 11/11\n"
     ]
    }
   ],
   "source": [
    "test = Test()\n",
    "test.runtest(graham_algorithm)\n",
    "# tests"
   ]
  },
  {
   "cell_type": "code",
   "execution_count": 20,
   "metadata": {},
   "outputs": [
    {
     "name": "stdout",
     "output_type": "stream",
     "text": [
      "[[0.99509765 0.26666899]\n",
      " [0.7475791  0.11399171]\n",
      " [0.30599376 0.72775421]\n",
      " [0.50184141 0.1111397 ]\n",
      " [0.63913382 0.79981809]\n",
      " [0.62262314 0.44468586]\n",
      " [0.44824294 0.02562811]\n",
      " [0.86225295 0.22816861]\n",
      " [0.33121955 0.01880272]\n",
      " [0.13414682 0.14266434]\n",
      " [0.93054211 0.47284404]\n",
      " [0.10109157 0.10179154]\n",
      " [0.33444472 0.47999711]\n",
      " [0.25276246 0.64832982]\n",
      " [0.74635017 0.49848844]\n",
      " [0.57143319 0.6513084 ]\n",
      " [0.4955151  0.16432187]\n",
      " [0.57917456 0.75010271]\n",
      " [0.60151385 0.13608702]\n",
      " [0.74476942 0.20750687]\n",
      " [0.49743133 0.23250986]\n",
      " [0.98358804 0.82547615]\n",
      " [0.42578297 0.11455835]\n",
      " [0.53173491 0.14612918]\n",
      " [0.00637298 0.58157108]\n",
      " [0.84428508 0.52889908]\n",
      " [0.06991846 0.03221301]\n",
      " [0.48746933 0.61918176]\n",
      " [0.72383917 0.29417474]\n",
      " [0.34810572 0.13079277]]\n"
     ]
    }
   ],
   "source": [
    "rng = np.random.default_rng()\n",
    "\n",
    "points = rng.random((30, 2))   # 30 random points in 2-D\n",
    "print(points)\n",
    "hull = ConvexHull(points)"
   ]
  },
  {
   "cell_type": "code",
   "execution_count": 21,
   "metadata": {},
   "outputs": [
    {
     "data": {
      "image/png": "[encoded data removed]",
      "text/plain": [
       "<Figure size 640x480 with 1 Axes>"
      ]
     },
     "metadata": {},
     "output_type": "display_data"
    }
   ],
   "source": [
    "plt.plot(points[:,0], points[:,1], 'o')\n",
    "\n",
    "\n",
    "for simplex in hull.simplices:\n",
    "\n",
    "    plt.plot(points[simplex, 0], points[simplex, 1], 'k-')"
   ]
  },
  {
   "cell_type": "code",
   "execution_count": 22,
   "metadata": {},
   "outputs": [],
   "source": [
    "test_2_in = []\n",
    "with open(\"../bitalg/tests/test2_tests/task1/test_2_1_5.in\", \"r\") as f:\n",
    "    for line in f.readlines():\n",
    "        splited_line = line.split()\n",
    "        test_2_in.append((float(splited_line[0]), float(splited_line[1])))\n"
   ]
  },
  {
   "cell_type": "code",
   "execution_count": 23,
   "metadata": {},
   "outputs": [
    {
     "name": "stdout",
     "output_type": "stream",
     "text": [
      "(0.3855086853352594, 0.9227042069542546)\n"
     ]
    }
   ],
   "source": [
    "print(test_2_in[0])"
   ]
  },
  {
   "cell_type": "code",
   "execution_count": 24,
   "metadata": {},
   "outputs": [],
   "source": [
    "hull1 = ConvexHull(test_2_in)"
   ]
  },
  {
   "cell_type": "code",
   "execution_count": 25,
   "metadata": {},
   "outputs": [],
   "source": [
    "result_hull = []\n",
    "for verticle in hull1.vertices:\n",
    "\n",
    "    # print(verticle)\n",
    "    result_hull.append(test_2_in[verticle])\n",
    "    "
   ]
  },
  {
   "cell_type": "code",
   "execution_count": 26,
   "metadata": {},
   "outputs": [],
   "source": [
    "my_hull = graham_algorithm(test_2_in)"
   ]
  },
  {
   "cell_type": "code",
   "execution_count": 27,
   "metadata": {},
   "outputs": [
    {
     "name": "stdout",
     "output_type": "stream",
     "text": [
      "(-0.00027969503264589635, -0.9999999608853436)\n"
     ]
    }
   ],
   "source": [
    "print(my_hull[0])"
   ]
  },
  {
   "cell_type": "code",
   "execution_count": 28,
   "metadata": {},
   "outputs": [
    {
     "name": "stdout",
     "output_type": "stream",
     "text": [
      "(-0.9999999999753835, -7.016633955456524e-06)\n",
      "(-0.9999999999753835, -7.016633955456524e-06)\n",
      "10000 10000\n"
     ]
    }
   ],
   "source": [
    "my_hull_sorted = sorted(my_hull)\n",
    "print(my_hull_sorted[0])\n",
    "scipy_hull_sorted = sorted(result_hull)\n",
    "print(scipy_hull_sorted[0])\n",
    "print(len(my_hull_sorted), len(scipy_hull_sorted))"
   ]
  },
  {
   "cell_type": "code",
   "execution_count": 29,
   "metadata": {},
   "outputs": [
    {
     "name": "stdout",
     "output_type": "stream",
     "text": [
      "yopo\n"
     ]
    }
   ],
   "source": [
    "if my_hull[0] in result_hull:\n",
    "    print(\"yopo\")"
   ]
  },
  {
   "cell_type": "code",
   "execution_count": 31,
   "metadata": {},
   "outputs": [
    {
     "data": {
      "image/png": "[encoded data removed]",
      "text/plain": [
       "<Figure size 640x480 with 1 Axes>"
      ]
     },
     "metadata": {},
     "output_type": "display_data"
    }
   ],
   "source": [
    "test_2_in_np = np.array(test_2_in)\n",
    "plt.plot(test_2_in_np[:,0], test_2_in_np[:,1], 'o')\n",
    "\n",
    "for simplex in hull.simplices:\n",
    "\n",
    "    plt.plot(test_2_in_np[simplex, 0], test_2_in_np[simplex, 1], 'k-')\n"
   ]
  },
  {
   "cell_type": "markdown",
   "metadata": {},
   "source": [
    "Zwizualizuj swoją implementację algorytmu."
   ]
  },
  {
   "cell_type": "markdown",
   "metadata": {},
   "source": [
    "Zbiór danych A"
   ]
  },
  {
   "cell_type": "code",
   "execution_count": 35,
   "metadata": {},
   "outputs": [],
   "source": [
    "graham_points_a = graham_algorithm_draw(points_a)"
   ]
  },
  {
   "cell_type": "code",
   "execution_count": 36,
   "metadata": {},
   "outputs": [
    {
     "ename": "ValueError",
     "evalue": "cannot reshape array of size 1 into shape (2)",
     "output_type": "error",
     "traceback": [
      "\u001b[0;31m---------------------------------------------------------------------------\u001b[0m",
      "\u001b[0;31mValueError\u001b[0m                                Traceback (most recent call last)",
      "Cell \u001b[0;32mIn[36], line 3\u001b[0m\n\u001b[1;32m      1\u001b[0m \u001b[39m# visualize(graham_points_a)\u001b[39;00m\n\u001b[1;32m      2\u001b[0m viz\u001b[39m.\u001b[39mclear()\n\u001b[0;32m----> 3\u001b[0m viz\u001b[39m.\u001b[39madd_point(graham_points_a)\n\u001b[1;32m      4\u001b[0m viz\u001b[39m.\u001b[39mshow()\n",
      "File \u001b[0;32m~/studia/project_alg_geo/Algorytmy-Geometryczne/bitalg/visualizer/main.py:15\u001b[0m, in \u001b[0;36mVisualizer.add_point\u001b[0;34m(self, data, **kwargs)\u001b[0m\n\u001b[1;32m     14\u001b[0m \u001b[39mdef\u001b[39;00m \u001b[39madd_point\u001b[39m(\u001b[39mself\u001b[39m, data, \u001b[39m*\u001b[39m\u001b[39m*\u001b[39mkwargs):\n\u001b[0;32m---> 15\u001b[0m     point \u001b[39m=\u001b[39m Point(data, kwargs)\n\u001b[1;32m     16\u001b[0m     \u001b[39mself\u001b[39m\u001b[39m.\u001b[39mdata\u001b[39m.\u001b[39mappend(point)\n",
      "File \u001b[0;32m~/studia/project_alg_geo/Algorytmy-Geometryczne/bitalg/visualizer/figures/point.py:7\u001b[0m, in \u001b[0;36mPoint.__init__\u001b[0;34m(self, data, options)\u001b[0m\n\u001b[1;32m      6\u001b[0m \u001b[39mdef\u001b[39;00m \u001b[39m__init__\u001b[39m(\u001b[39mself\u001b[39m, data, options):\n\u001b[0;32m----> 7\u001b[0m     data \u001b[39m=\u001b[39m np\u001b[39m.\u001b[39marray(data)\u001b[39m.\u001b[39mreshape(\u001b[39m-\u001b[39m\u001b[39m1\u001b[39m, \u001b[39m2\u001b[39m)\n\u001b[1;32m      8\u001b[0m     \u001b[39msuper\u001b[39m()\u001b[39m.\u001b[39m\u001b[39m__init__\u001b[39m(data, options)\n",
      "\u001b[0;31mValueError\u001b[0m: cannot reshape array of size 1 into shape (2)"
     ]
    }
   ],
   "source": [
    "# visualize(graham_points_a)\n",
    "viz.clear()\n",
    "viz.add_point(graham_points_a)\n",
    "viz.show()"
   ]
  },
  {
   "cell_type": "markdown",
   "metadata": {},
   "source": [
    "Zbiór danych B"
   ]
  },
  {
   "cell_type": "code",
   "execution_count": 37,
   "metadata": {},
   "outputs": [],
   "source": [
    "graham_points_b = graham_algorithm_draw(points_b)"
   ]
  },
  {
   "cell_type": "code",
   "execution_count": 38,
   "metadata": {},
   "outputs": [
    {
     "ename": "ValueError",
     "evalue": "cannot reshape array of size 1 into shape (2)",
     "output_type": "error",
     "traceback": [
      "\u001b[0;31m---------------------------------------------------------------------------\u001b[0m",
      "\u001b[0;31mValueError\u001b[0m                                Traceback (most recent call last)",
      "Cell \u001b[0;32mIn[38], line 3\u001b[0m\n\u001b[1;32m      1\u001b[0m \u001b[39m# visualize(graham_points_b)\u001b[39;00m\n\u001b[1;32m      2\u001b[0m viz\u001b[39m.\u001b[39mclear()\n\u001b[0;32m----> 3\u001b[0m viz\u001b[39m.\u001b[39madd_point(graham_points_b)\n\u001b[1;32m      4\u001b[0m viz\u001b[39m.\u001b[39mshow()\n",
      "File \u001b[0;32m~/studia/project_alg_geo/Algorytmy-Geometryczne/bitalg/visualizer/main.py:15\u001b[0m, in \u001b[0;36mVisualizer.add_point\u001b[0;34m(self, data, **kwargs)\u001b[0m\n\u001b[1;32m     14\u001b[0m \u001b[39mdef\u001b[39;00m \u001b[39madd_point\u001b[39m(\u001b[39mself\u001b[39m, data, \u001b[39m*\u001b[39m\u001b[39m*\u001b[39mkwargs):\n\u001b[0;32m---> 15\u001b[0m     point \u001b[39m=\u001b[39m Point(data, kwargs)\n\u001b[1;32m     16\u001b[0m     \u001b[39mself\u001b[39m\u001b[39m.\u001b[39mdata\u001b[39m.\u001b[39mappend(point)\n",
      "File \u001b[0;32m~/studia/project_alg_geo/Algorytmy-Geometryczne/bitalg/visualizer/figures/point.py:7\u001b[0m, in \u001b[0;36mPoint.__init__\u001b[0;34m(self, data, options)\u001b[0m\n\u001b[1;32m      6\u001b[0m \u001b[39mdef\u001b[39;00m \u001b[39m__init__\u001b[39m(\u001b[39mself\u001b[39m, data, options):\n\u001b[0;32m----> 7\u001b[0m     data \u001b[39m=\u001b[39m np\u001b[39m.\u001b[39marray(data)\u001b[39m.\u001b[39mreshape(\u001b[39m-\u001b[39m\u001b[39m1\u001b[39m, \u001b[39m2\u001b[39m)\n\u001b[1;32m      8\u001b[0m     \u001b[39msuper\u001b[39m()\u001b[39m.\u001b[39m\u001b[39m__init__\u001b[39m(data, options)\n",
      "\u001b[0;31mValueError\u001b[0m: cannot reshape array of size 1 into shape (2)"
     ]
    }
   ],
   "source": [
    "# visualize(graham_points_b)\n",
    "viz.clear()\n",
    "viz.add_point(graham_points_b)\n",
    "viz.show()"
   ]
  },
  {
   "cell_type": "markdown",
   "metadata": {},
   "source": [
    "Zbiór danych C"
   ]
  },
  {
   "cell_type": "code",
   "execution_count": 32,
   "metadata": {},
   "outputs": [],
   "source": [
    "graham_points_c = graham_algorithm_draw(points_c)"
   ]
  },
  {
   "cell_type": "code",
   "execution_count": 34,
   "metadata": {},
   "outputs": [
    {
     "ename": "ValueError",
     "evalue": "cannot reshape array of size 1 into shape (2)",
     "output_type": "error",
     "traceback": [
      "\u001b[0;31m---------------------------------------------------------------------------\u001b[0m",
      "\u001b[0;31mValueError\u001b[0m                                Traceback (most recent call last)",
      "Cell \u001b[0;32mIn[34], line 3\u001b[0m\n\u001b[1;32m      1\u001b[0m \u001b[39m# visualize(graham_points_c)\u001b[39;00m\n\u001b[1;32m      2\u001b[0m viz\u001b[39m.\u001b[39mclear()\n\u001b[0;32m----> 3\u001b[0m viz\u001b[39m.\u001b[39madd_point(graham_points_c)\n\u001b[1;32m      4\u001b[0m viz\u001b[39m.\u001b[39mshow()\n",
      "File \u001b[0;32m~/studia/project_alg_geo/Algorytmy-Geometryczne/bitalg/visualizer/main.py:15\u001b[0m, in \u001b[0;36mVisualizer.add_point\u001b[0;34m(self, data, **kwargs)\u001b[0m\n\u001b[1;32m     14\u001b[0m \u001b[39mdef\u001b[39;00m \u001b[39madd_point\u001b[39m(\u001b[39mself\u001b[39m, data, \u001b[39m*\u001b[39m\u001b[39m*\u001b[39mkwargs):\n\u001b[0;32m---> 15\u001b[0m     point \u001b[39m=\u001b[39m Point(data, kwargs)\n\u001b[1;32m     16\u001b[0m     \u001b[39mself\u001b[39m\u001b[39m.\u001b[39mdata\u001b[39m.\u001b[39mappend(point)\n",
      "File \u001b[0;32m~/studia/project_alg_geo/Algorytmy-Geometryczne/bitalg/visualizer/figures/point.py:7\u001b[0m, in \u001b[0;36mPoint.__init__\u001b[0;34m(self, data, options)\u001b[0m\n\u001b[1;32m      6\u001b[0m \u001b[39mdef\u001b[39;00m \u001b[39m__init__\u001b[39m(\u001b[39mself\u001b[39m, data, options):\n\u001b[0;32m----> 7\u001b[0m     data \u001b[39m=\u001b[39m np\u001b[39m.\u001b[39marray(data)\u001b[39m.\u001b[39mreshape(\u001b[39m-\u001b[39m\u001b[39m1\u001b[39m, \u001b[39m2\u001b[39m)\n\u001b[1;32m      8\u001b[0m     \u001b[39msuper\u001b[39m()\u001b[39m.\u001b[39m\u001b[39m__init__\u001b[39m(data, options)\n",
      "\u001b[0;31mValueError\u001b[0m: cannot reshape array of size 1 into shape (2)"
     ]
    }
   ],
   "source": [
    "# visualize(graham_points_c)\n",
    "viz.clear()\n",
    "viz.add_point(graham_points_c)\n",
    "viz.show()"
   ]
  },
  {
   "cell_type": "markdown",
   "metadata": {},
   "source": [
    "Zbiór danych D"
   ]
  },
  {
   "cell_type": "code",
   "execution_count": null,
   "metadata": {},
   "outputs": [],
   "source": [
    "graham_points_d = graham_algorithm_draw(points_d)"
   ]
  },
  {
   "cell_type": "code",
   "execution_count": null,
   "metadata": {},
   "outputs": [],
   "source": [
    "# visualize(graham_points_d)"
   ]
  },
  {
   "cell_type": "markdown",
   "metadata": {},
   "source": [
    "### Algorytm Jarvisa"
   ]
  },
  {
   "cell_type": "markdown",
   "metadata": {},
   "source": [
    "Algorytm Jarvisa oblicza otoczkę wypukłą dla zbioru punktów $Q$ przez technikę zwaną owijaniem paczki (*package wrapping*) lub owijaniem prezentu (*gift wrapping*). Algorytm Jarvisa buduje sekwencję $H = \\langle p_1, p_2, \\dots, p_m \\rangle$ będącą wierzchołkami $\\mathcal{CH}(Q)$. Zaczynamy od punktu $p_0$, następny punkt $p_1$ w otoczce wypukłej ma najmniejszy kąt w odniesieniu do $p_0$ (w przypadku takiego samego kąta - wybiera się punkt najdalej od $p_0$). Podobnie, gdy $p_2$ ma najmniejszy kąt w odniesieniu do $p_1$, itd.. Zauważyć warto, że możemy tym sposobem obliczyć lewy i prawy łańcuch otoczki wypukłej $\\mathcal{CH}(Q)$. Lewy łańcuch buduje się podobnie. Gdy osiągniemy najwyższy wierzchołej w prawym łańcuchu $p_k$, wybieramy wierzchołek $p_{k+1}$, który ma najmniejszy kąt w odniesieniu do $p_k$, ale od ujemnej osi-$x$. Można zaimplementować algorytm Jarvisa bez konstruowania pomocniczych łańcuchów - lewego i prawego. Taka implementacja utrzymuje śledzenie kąta ostatniej strony otoczki wypukłej i wymaga sekwencji kątów boków otoczki tylko rosnącej. (Patrząc na trzy ostatnie punkty jesteśmy w stanie obliczyć jaki punkt należy włączyć do $\\mathcal{CH}(Q)$ w zależności od budowanego punktu)"
   ]
  },
  {
   "cell_type": "markdown",
   "metadata": {},
   "source": [
    "<span style=\"color:red\">Ćw.</span> Uzupełnij funkcję ```jarvis_algorithm```, która oblicza otoczkę wypukłą korzystając z algorytmu Jarvisa."
   ]
  },
  {
   "cell_type": "code",
   "execution_count": 23,
   "metadata": {},
   "outputs": [],
   "source": [
    "def jarvis_algorithm(Q):\n",
    "    '''\n",
    "    Funkcja buduje otoczkę wypukłą dla podanego\n",
    "    zbioru punktów Q algorymem Jarvisa \n",
    "    :parm Q: zbiór punktów\n",
    "    :return: tablica punktów w postaci krotek współrzędnych\n",
    "    '''\n",
    "    epsilon = 10e-10\n",
    "    def distance(a, b):\n",
    "        return np.sqrt((a[0]-b[0])**2 + (a[1]-b[1])**2)\n",
    "\n",
    "    def orient(p,q,r):\n",
    "        result = ((p[0] - r[0])*(q[1] - r[1]) - (p[1] - r[1])*(q[0] - r[0]))\n",
    "        if result > epsilon:\n",
    "            return 1\n",
    "        elif result < -epsilon:\n",
    "            return -1\n",
    "        else:\n",
    "            return 0\n",
    "    p0 = min(Q, key=lambda x: (x[1],x[0]))\n",
    "    if len(Q) < 3: return Q\n",
    "    points_of_hull = [p0] # points that inculde in convex hull\n",
    "    lastpoint = Q[0] if Q[0] != p0 else Q[1] # the latest point to check if it can be in convex hull\n",
    "    curr_point = p0 # current point of convex hull\n",
    "\n",
    "    while (True):\n",
    "\n",
    "        for i in range(len(Q)):\n",
    "            if (orient(curr_point, lastpoint, Q[i]) == -1 ) or (orient(curr_point, lastpoint, Q[i]) == 0 \n",
    "                                                                and distance(lastpoint, curr_point) < distance(curr_point, Q[i])):\n",
    "                lastpoint = Q[i]\n",
    "        \n",
    "        curr_point = lastpoint\n",
    "\n",
    "        if curr_point == p0:\n",
    "            break\n",
    "            \n",
    "        points_of_hull.append(curr_point)\n",
    "    \n",
    "    return points_of_hull\n",
    "\n",
    "    return Exception(\"Unimplemented\")"
   ]
  },
  {
   "cell_type": "markdown",
   "metadata": {},
   "source": [
    "<span style=\"color:red\">Ćw.</span> Uzupełnij funkcję ```jarvis_algorithm_draw```, która oblicza otoczkę wypukłą korzystając z algorytmu Jarvisa z dodatkową opcją wyświetlania kroków algorytmu."
   ]
  },
  {
   "cell_type": "code",
   "execution_count": null,
   "metadata": {},
   "outputs": [],
   "source": [
    "def jarvis_algorithm_draw(Q):\n",
    "    '''\n",
    "    Funkcja buduje otoczkę wypukłą dla podanego\n",
    "    zbioru punktów Q algorymem Jarvisa oraz \n",
    "    pokazuje poszczególne kroki algorymu\n",
    "    :parm Q: zbiór punktów\n",
    "    :return: tablica punktów w postaci krotek współrzędnych\n",
    "    '''\n",
    "    return Exception(\"Unimplemented\")"
   ]
  },
  {
   "cell_type": "markdown",
   "metadata": {},
   "source": [
    "Przetestuj swoją implementacje algorytmu Jarvisa, by sprawdzić czy poprawnie obliczana jest otoczka."
   ]
  },
  {
   "cell_type": "code",
   "execution_count": null,
   "metadata": {},
   "outputs": [],
   "source": [
    "test = Test()\n",
    "test.runtest(jarvis_algorithm)\n",
    "# tests"
   ]
  },
  {
   "cell_type": "markdown",
   "metadata": {},
   "source": [
    "Zwizualizuj swoją implementację algorytmu."
   ]
  },
  {
   "cell_type": "markdown",
   "metadata": {},
   "source": [
    "Zbiór danych A"
   ]
  },
  {
   "cell_type": "code",
   "execution_count": null,
   "metadata": {},
   "outputs": [],
   "source": [
    "jarvis_points_a = jarvis_algorithm_draw(points_a)"
   ]
  },
  {
   "cell_type": "code",
   "execution_count": null,
   "metadata": {},
   "outputs": [],
   "source": [
    "# visualize(jarvis_points_a)"
   ]
  },
  {
   "cell_type": "markdown",
   "metadata": {},
   "source": [
    "Zbiór danych B"
   ]
  },
  {
   "cell_type": "code",
   "execution_count": null,
   "metadata": {},
   "outputs": [],
   "source": [
    "jarvis_points_b = jarvis_algorithm_draw(points_b)"
   ]
  },
  {
   "cell_type": "code",
   "execution_count": null,
   "metadata": {},
   "outputs": [],
   "source": [
    "# visualize(jarvis_points_b)"
   ]
  },
  {
   "cell_type": "markdown",
   "metadata": {},
   "source": [
    "Zbiór danych C"
   ]
  },
  {
   "cell_type": "code",
   "execution_count": null,
   "metadata": {},
   "outputs": [],
   "source": [
    "jarvis_points_c = jarvis_algorithm_draw(points_c)"
   ]
  },
  {
   "cell_type": "code",
   "execution_count": null,
   "metadata": {},
   "outputs": [],
   "source": [
    "# visualize(jarvis_points_c)"
   ]
  },
  {
   "cell_type": "markdown",
   "metadata": {},
   "source": [
    "Zbiór danych D"
   ]
  },
  {
   "cell_type": "code",
   "execution_count": null,
   "metadata": {},
   "outputs": [],
   "source": [
    "jarvis_points_d = jarvis_algorithm_draw(points_d)"
   ]
  },
  {
   "cell_type": "code",
   "execution_count": null,
   "metadata": {},
   "outputs": [],
   "source": [
    "# visualize(jarvis_points_d)"
   ]
  },
  {
   "cell_type": "markdown",
   "metadata": {},
   "source": [
    "\n",
    "---\n",
    "\n",
    "Po zobaczeniu i przetestowaniu wstępnie zbiorów danych, przyszła kolej na porównanie czasów działania dla różnych danych. Do tego potrzebujemy bardziej miarodajnych zbiorów danych.  \n",
    "<span style=\"color:red\">Ćw.</span> Stwórz zmodyfikowane zbiory danych A, B, C oraz D - tak jak uważasz za słuszne."
   ]
  },
  {
   "cell_type": "code",
   "execution_count": null,
   "metadata": {},
   "outputs": [],
   "source": [
    "# prepare your data to time-test"
   ]
  },
  {
   "cell_type": "markdown",
   "metadata": {},
   "source": [
    "Po przygotowaniu zbioru danych, dokonaj porównania czasowego  \n",
    "<span style=\"color:red\">Ćw.</span> Porównaj zmodyfikowane zbiory danych A, B, C oraz D dla algorytmów Grahama i Jarvisa."
   ]
  },
  {
   "cell_type": "code",
   "execution_count": 15,
   "metadata": {},
   "outputs": [],
   "source": [
    "# compare your sets of data "
   ]
  },
  {
   "cell_type": "markdown",
   "metadata": {},
   "source": [
    "WNIOSKI HERE  \n",
    "W sprawozdaniu napisz, czy Twój program działał poprawnie dla wszystkich zbiorów\n",
    "danych oraz opisz krótko wnioski dotyczące działania algorytmu dla poszczególnych\n",
    "zbiorów. Napisz, dlaczego wg Ciebie zaproponowano takie zbiory punktów? Które ze\n",
    "zbiorów mogły stwarzać problemy w działaniu algorytmów? Jeśli tak, to jakie i\n",
    "dlaczego? Porównaj czasy działania obu algorytmów w zależności od liczby punktów\n",
    "w poszczególnych zbiorach (A, B, C, D). Dołącz wybrane, istotne ilustracje."
   ]
  },
  {
   "cell_type": "markdown",
   "metadata": {},
   "source": [
    "Bibliografia:\n",
    "- Wprowadzenie do algorytmów wydanie 3, Thomas H. Cormen, Charles E. Leiserson, Ronald L. Rivest, Stein Clifford\n"
   ]
  }
 ],
 "metadata": {
  "kernelspec": {
   "display_name": "Python 3",
   "language": "python",
   "name": "python3"
  },
  "language_info": {
   "codemirror_mode": {
    "name": "ipython",
    "version": 3
   },
   "file_extension": ".py",
   "mimetype": "text/x-python",
   "name": "python",
   "nbconvert_exporter": "python",
   "pygments_lexer": "ipython3",
   "version": "3.11.3"
  },
  "orig_nbformat": 4
 },
 "nbformat": 4,
 "nbformat_minor": 2
}
