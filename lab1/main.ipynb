{
 "cells": [
  {
   "cell_type": "markdown",
   "metadata": {
    "collapsed": false
   },
   "source": [
    "# Podstawowe predykaty geometryczne, przeprowadzanie testów, wizualizacja i opracowanie wyników"
   ]
  },
  {
   "cell_type": "code",
   "execution_count": 2,
   "metadata": {
    "ExecuteTime": {
     "end_time": "2023-07-31T19:42:27.936978400Z",
     "start_time": "2023-07-31T19:42:25.087975100Z"
    }
   },
   "outputs": [],
   "source": [
    "import numpy as np\n",
    "import pandas as pd\n",
    "import matplotlib.pyplot as plt\n",
    "from bitalg.tests.test1 import Test\n",
    "# from bitalg.visualizer.main import Visualizer"
   ]
  },
  {
   "cell_type": "markdown",
   "metadata": {
    "collapsed": false
   },
   "source": [
    "# Przydatne funkcje "
   ]
  },
  {
   "cell_type": "code",
   "execution_count": 3,
   "metadata": {
    "ExecuteTime": {
     "end_time": "2023-07-31T19:42:27.947499500Z",
     "start_time": "2023-07-31T19:42:27.939977800Z"
    },
    "collapsed": false
   },
   "outputs": [],
   "source": [
    "def draw_example_1():\n",
    "    # TODO narysowac to uzywając naszego narzędzia do wizualizacji\n",
    "    plt.plot([0, 10], [2, 7])\n",
    "    plt.plot(4, 4, marker=\".\", markersize=13, color=\"green\")\n",
    "    plt.plot(6, 6, marker=\".\", markersize=13, color=\"red\")\n",
    "    plt.plot(7, 4, marker=\".\", markersize=13, color=\"purple\")\n",
    "    plt.show()"
   ]
  },
  {
   "cell_type": "markdown",
   "metadata": {
    "collapsed": false
   },
   "source": [
    "### Wprowadzenie\n",
    "Celem ćwiczenia jest określenie po której stronie prostej znajduje się punkt."
   ]
  },
  {
   "cell_type": "code",
   "execution_count": 5,
   "metadata": {
    "ExecuteTime": {
     "end_time": "2023-07-31T19:42:48.384564100Z",
     "start_time": "2023-07-31T19:42:48.264836100Z"
    },
    "collapsed": false
   },
   "outputs": [
    {
     "data": {
      "image/png": "[encoded data removed]",
      "text/plain": [
       "<Figure size 640x480 with 1 Axes>"
      ]
     },
     "metadata": {},
     "output_type": "display_data"
    }
   ],
   "source": [
    "draw_example_1()"
   ]
  },
  {
   "cell_type": "markdown",
   "metadata": {
    "collapsed": false
   },
   "source": [
    "\n",
    "Do tego celu potrzebujesz wygenerować zbiory punktów testowych.\n"
   ]
  },
  {
   "cell_type": "markdown",
   "metadata": {
    "collapsed": false
   },
   "source": [
    "# Generowanie losowych punktów na płaszczyźnie"
   ]
  },
  {
   "cell_type": "markdown",
   "metadata": {
    "collapsed": false
   },
   "source": [
    "Uzupełnij funkcję ```generate_uniform_points```\n",
    " (Aby generować losowo liczby rzeczywiste bardzo przydatna może okazać się jakaś funckja biblioteczna)"
   ]
  },
  {
   "cell_type": "code",
   "execution_count": null,
   "metadata": {
    "collapsed": false
   },
   "outputs": [],
   "source": [
    "def generate_uniform_points(left, right, n = 10 ** 5):\n",
    "    \"\"\"\n",
    "    Funkcja generuje równomiernie n punktów na kwadwratowym obszarze od left do right (jednakowo na osi y) o współrzędnych rzeczywistych\n",
    "    :param left: lewy kraniec przedziału\n",
    "    :param right: prawy kraniec przedziału\n",
    "    :param n: ilość generowanych punktów\n",
    "    :return: tablica punktów w postaci krotek współrzędnych np. [(x1, y1), (x2, y2), ... (xn, yn)]\n",
    "    \"\"\"\n",
    "    raise Exception(\"Unimplemented\")"
   ]
  },
  {
   "cell_type": "markdown",
   "metadata": {
    "collapsed": false
   },
   "source": [
    "\n",
    "<span style=\"color:red\">Ćw.</span> Wygeneruj $\\large10^5$ losowych punktów w przestrzeni 2D o współrzędnych z przedziału $\\large x \\in \\langle -1000,1000 \\rangle$ oraz $\\large y \\in \\langle -1000,1000\\rangle$. "
   ]
  },
  {
   "cell_type": "code",
   "execution_count": null,
   "metadata": {
    "collapsed": false
   },
   "outputs": [],
   "source": [
    "points_a = generate_uniform_points(-1000, 1000, 10 ** 5)"
   ]
  },
  {
   "cell_type": "markdown",
   "metadata": {
    "collapsed": false
   },
   "source": [
    "Zwizualizuj wygenerowane punkty. "
   ]
  },
  {
   "cell_type": "code",
   "execution_count": null,
   "metadata": {
    "collapsed": false
   },
   "outputs": [],
   "source": [
    "# visualize(points_a)"
   ]
  },
  {
   "cell_type": "markdown",
   "metadata": {
    "collapsed": false
   },
   "source": [
    "<span style=\"color:red\">Ćw.</span> Wygeneruj $\\large10^5$ losowych punktów w przestrzeni 2D o współrzędnych z przedziału $\\large x \\in \\langle -10^{14},10^{14} \\rangle$ oraz $\\large y \\in \\langle -10^{14},10^{14} \\rangle$. Uzupełnij funkcję ```generate_big_num_of_points_2D```. Sprawdź, czy różni się wizualizalnie wynik tego ćwiczenia z poprzednim."
   ]
  },
  {
   "cell_type": "code",
   "execution_count": null,
   "metadata": {
    "collapsed": false
   },
   "outputs": [],
   "source": [
    "points_b = generate_uniform_points(-10 ** 14, 10 ** 14, 10 ** 5)"
   ]
  },
  {
   "cell_type": "markdown",
   "metadata": {
    "collapsed": false
   },
   "source": [
    "Zwizualizuj wygenerowane punkty. "
   ]
  },
  {
   "cell_type": "code",
   "execution_count": null,
   "metadata": {
    "collapsed": false
   },
   "outputs": [],
   "source": [
    "# visualize(points_b)"
   ]
  },
  {
   "cell_type": "markdown",
   "metadata": {
    "collapsed": false
   },
   "source": [
    "Uzupełnij funkcję ```generate_circle_points```\n",
    "Zastanów się w sposób generować  punkty jednostajnie na okręgu."
   ]
  },
  {
   "cell_type": "code",
   "execution_count": null,
   "metadata": {
    "collapsed": false
   },
   "outputs": [],
   "source": [
    "def generate_circle_points(O, R, n = 100):\n",
    "    \"\"\"\n",
    "    Funkcja generuje jednostajnie n punktów na okręgu o środku O i promieniu R\n",
    "    :param O: krotka współrzędnych x, y określająca środek okręgu\n",
    "    :param R: promień okręgu \n",
    "    :param n: ilość generowanych punktów\n",
    "    :return: tablica punktów w postaci krotek współrzędnych\n",
    "    \"\"\"\n",
    "    raise Exception(\"Unimplemented\")"
   ]
  },
  {
   "cell_type": "markdown",
   "metadata": {
    "collapsed": false
   },
   "source": [
    "<span style=\"color:red\">Ćw.</span> Wygeneruj $\\large 1000$ losowych punktów w przestrzeni 2D leżących na okręgu o środku $\\large O = (0,0)$ i promieniu $\\large R = 100$. Uzupełnij funkcję ```generate_points_on_circle_2D```."
   ]
  },
  {
   "cell_type": "code",
   "execution_count": null,
   "metadata": {
    "collapsed": false
   },
   "outputs": [],
   "source": [
    "# points_c = ???"
   ]
  },
  {
   "cell_type": "markdown",
   "metadata": {
    "collapsed": false
   },
   "source": [
    "Zwizualizuj wygenerowane punkty. "
   ]
  },
  {
   "cell_type": "code",
   "execution_count": null,
   "metadata": {
    "collapsed": false
   },
   "outputs": [],
   "source": [
    "# ???"
   ]
  },
  {
   "cell_type": "markdown",
   "metadata": {
    "collapsed": false
   },
   "source": [
    "Uzupełnij funkcję ```generate_collinear_points```."
   ]
  },
  {
   "cell_type": "code",
   "execution_count": null,
   "metadata": {
    "collapsed": false
   },
   "outputs": [],
   "source": [
    "def generate_collinear_points(a, b, n=100):\n",
    "    \"\"\"\n",
    "    Funkcja generuje równomiernie n współliniowych punktów leżących na odcinku ab pomiędzy punktami a i b\n",
    "    :param a: krotka współrzędnych oznaczająca początek odcinka\n",
    "    :param b: krotka współrzędnych oznaczająca koniec odcinka\n",
    "    :param n: ilość generowanych punktów\n",
    "    :return: tablica punktów w postaci krotek współrzędnych\n",
    "    \"\"\"\n",
    "    raise Exception(\"Unimplemented\")"
   ]
  },
  {
   "cell_type": "markdown",
   "metadata": {
    "collapsed": false
   },
   "source": [
    "<span style=\"color:red\">Ćw.</span>  Wygeneruj $\\large 1000$ losowych punktów w przestrzeni 2D o współrzędnej z przedziału $\\large x \\in \\langle -1000,1000 \\rangle$ leżących na prostej wyznaczonej przez wektor $\\large \\overrightarrow{ab}$. Przyjmij punkty $\\large a = (-1.0, 0.0)$ oraz $\\large b = (1.0, 0.1)$. Uzupełnij funkcję ```generate_points_on_line_2D```."
   ]
  },
  {
   "cell_type": "code",
   "execution_count": 7,
   "metadata": {
    "ExecuteTime": {
     "end_time": "2023-07-31T20:38:41.131730100Z",
     "start_time": "2023-07-31T20:38:41.108086400Z"
    },
    "collapsed": false
   },
   "outputs": [],
   "source": [
    "# points_d = ???"
   ]
  },
  {
   "cell_type": "markdown",
   "metadata": {
    "collapsed": false
   },
   "source": [
    "Zwizualizuj wygenerowane punkty. "
   ]
  },
  {
   "cell_type": "code",
   "execution_count": 8,
   "metadata": {
    "ExecuteTime": {
     "end_time": "2023-07-31T20:38:41.916714300Z",
     "start_time": "2023-07-31T20:38:41.908389Z"
    },
    "collapsed": false
   },
   "outputs": [],
   "source": [
    "# ???"
   ]
  },
  {
   "cell_type": "markdown",
   "metadata": {},
   "source": [
    "Sprawdź poprawność powyższych funkcji.\n"
   ]
  },
  {
   "cell_type": "code",
   "execution_count": null,
   "metadata": {},
   "outputs": [],
   "source": [
    "Test().runtest(1,generate_uniform_points,generate_circle_points,generate_collinear_points)"
   ]
  },
  {
   "cell_type": "markdown",
   "metadata": {
    "collapsed": false
   },
   "source": [
    "# Po której stornie prostej znajduje się punkt?\n",
    "\n",
    "Prostym sposobem do obliczenia, po której strnie prostej znajduje się punkt jest obliczenie iloczynu wektorowego \n",
    "$\\large \\overrightarrow{ab} \\times \\overrightarrow{ac}$,  \n",
    "gdzie $\\large c = (x,y)$ jest punktem, dla którego poszukujemy wiadomości o lokalizacji względem prostej przechodzącej przez punkty $\\large a$ i $\\large b$. Metoda ta jest równoznaczna z obliczeniem wyznacznika macierzy $\\large 2\\times2$:  \n",
    "\n",
    "$$\\Large\n",
    "(1)\\ det(a, b, c)= \\begin{vmatrix}\n",
    "       a_{x} - c_{x} & a_{y} - c_{y} \\\\\n",
    "       b_{x} - c_{x} & b_{y} - c_{y} \n",
    "              \\end{vmatrix}\n",
    "$$\n",
    "\n",
    "\n",
    "lub wyznacznika macierzy $\\large 3\\times3$:\n",
    "\n",
    "$$\\Large\n",
    "(2)\\ det(a, b, c)= \\begin{vmatrix}\n",
    "       a_{x} & a_{y} & 1 \\\\\n",
    "       b_{x} & b_{y} & 1 \\\\\n",
    "       c_{x} & c_{y} & 1\n",
    "              \\end{vmatrix}\n",
    "$$\n",
    "\n",
    "Upraszczając tą macierz przez odjęcie drugiego wiersza od trzeciego i odjęcie pierwszego wiersza od drugiego otrzymamy:\n",
    "\n",
    "$$\\Large\n",
    "det(a, b, c)  = \\begin{vmatrix}\n",
    "              a_{x}         & a_{y}         & 1 \\\\\n",
    "              b_{x} - a_{x} & b_{y} - a_{y} & 0 \\\\\n",
    "              c_{x} - b_{x} & c_{y} - b_{y} & 0\n",
    "                     \\end{vmatrix}\n",
    "              = (b_{x} - a_{x})(c_{y} - b_{y}) - (b_{y} - a_{y})(c_{x} - b_{x})\n",
    "$$\n",
    "\n",
    "Jest to wzór, z który opisuje pole równoległoboku mającego boki $\\large ab$ oraz $\\large ac$ (Dowód dlaczego tak jest, do zrobienia w domu)  \n",
    "Dlaczego wiemy, że po obliczeniu wskaźnika podanego powyżej będziemy wiedzieć, po której stornie prostej znajduje się punkt?\n",
    "\n",
    "</br>\n",
    "\n",
    "***"
   ]
  },
  {
   "cell_type": "markdown",
   "metadata": {
    "collapsed": false
   },
   "source": [
    "**Dowód**:  \n",
    "\n",
    "Załóżmy, że mamy dane trzy punkty w przestrzeni 2-wymiarowej $\\large A, B$ oraz $\\large C$. Znajdujemy prostą przechodzącą przez punkty $\\large A$ i $B$. Następnie obliczamy $\\large C_{y}$ przy danym $\\large C_{x}$ i sprawdzamy czy punkt leży nad czy pod prostą.\n",
    "Współczynnik nachylenia prostej jest nastepujący:\n",
    "\n",
    "$$\\Large\n",
    "a = \\frac{B_{y} - A_{y}}{B_{x} - A_{x}}\n",
    "$$\n",
    "Natomiast współczynnik $b$ wynosi:\n",
    "\n",
    "$$\\Large\n",
    "b = B_{y} - \\frac{(B_{y} - A_{y})B_{x}}{B_{x} - A_{x}}\n",
    "$$\n",
    "\n",
    "Po wpisaniu do równania $y = ax + b$ wyliczonego nachylenia prostej, współczynnika $b$ oraz zmiennej $C_{x}$ otrzymujemy:\n",
    "\n",
    "$$\\Large\n",
    "y = (\\frac{B_{y} - A_{y}}{B_{x} - A_{x}})C_{x}+ (B_{y} - \\frac{(B_{y} - A_{y})B_{x}}{B_{x} - A_{x}})\n",
    "$$\n",
    "\n",
    "Otzymujemy punkt $\\large C$ po lewej stronie prostej jeżeli $\\large C_{y} - y > 0$, po prawej jeżeli $\\large C_{y} - y < 0$, a punkt $\\large C$ leżący na prostej, jeżeli $\\large C_{y} - y = 0$. Przekształcimy powyższe równanie dla $\\large C_{y} - y > 0$:\n",
    "\n",
    "$$\\Large\n",
    "C_{y} - y > 0\\\\ \\Large\n",
    "C_{y} - (\\frac{B_{y} - A_{y}}{B_{x} - A_{x}})C_{x} - (B_{y} - \\frac{(B_{y} - A_{y})B_{x}}{B_{x} - A_{x}}) > 0\\\\ \\Large\n",
    "C_{y}(B_{x} - A_{x}) - C_{x}(B_{y} - A_{y}) - B_{y}(B_{x} - A_{x}) + B_{x}(B_{y} - A_{y}) > 0\\\\ \\Large\n",
    "(C_{y} - B_{y})(B_{x} - A_{x}) + (B_{x} - C_{x})(B_{y} - A_{y}) > 0\\\\ \\Large\n",
    "(C_{y} - B_{y})(B_{x} - A_{x}) - (C_{x} - B_{x})(B_{y} - A_{y}) > 0\n",
    "$$\n",
    "Zatem widzimy, że ostatnie równie jest takie same co przy równaniu wyznacznika macierzy $\\large 3\\times3$. Niejawnie założyliśmy tutaj, że $\\large B_{x}$ jest wieksze od $\\large A_{x}$ , jeżeli byłoby odwrotnie zmieniłby się tylko znak nierówności na przeciwny. W naszym przypadku pokazaliśmy, że $\\large C$ znajduje się po lewej stronie prostej jeżeli wyznacznik jest dodatni oraz po prawej stronie prostej, jeżeli wyznacznik jest ujemny. $\\large Q.E.D$"
   ]
  },
  {
   "cell_type": "markdown",
   "metadata": {
    "collapsed": false
   },
   "source": [
    "---\n",
    "#### Kolejnym zadaniem będzie zaimplementowanie własnych wyznaczników $(1)$ oraz $(2)$ i porówanie ich szybkości działania z wyznacznikami bibliotecznymi w testowaniu dla różnych zbiorów punktów. Co dodatkowo chcemy sprawdzić, czy wszystkie wyznaczniki podobnie kwalifikują podział względem danej lini."
   ]
  },
  {
   "cell_type": "markdown",
   "metadata": {
    "collapsed": false
   },
   "source": [
    "Uzupełnij funkcje ```mat_det_3x3```. "
   ]
  },
  {
   "cell_type": "code",
   "execution_count": 74,
   "metadata": {
    "collapsed": false
   },
   "outputs": [],
   "source": [
    "def mat_det_3x3(a, b, c):\n",
    "    \"\"\"\n",
    "    Obliczanie wyznacznika macierzy 3x3 bez użycia funkcji bibliotecznych\n",
    "    :param a: krotka współrzędnych (x, y) pierwszego punktu tworzącego naszą prostą\n",
    "    :param b: krotka współrzędnych (x, y) drugiego punktu tworzącego naszą prostą\n",
    "    :param c: krotka współrzędnych (x, y) punktu, którego położenie względem prostej chcemy znaleźć\n",
    "    :return: wartość wyznacznika macierzy\n",
    "    \"\"\"\n",
    "    raise Exception(\"Unimplemented\")"
   ]
  },
  {
   "cell_type": "markdown",
   "metadata": {
    "collapsed": false
   },
   "source": [
    "Uzupełnij funkcję ```mat_det_3x3_lib```, ale tym razem wykorzystaj dowolną funckję biblioteczną do obliczenia wyznacznika."
   ]
  },
  {
   "cell_type": "code",
   "execution_count": null,
   "metadata": {
    "collapsed": false
   },
   "outputs": [],
   "source": [
    "def mat_det_3x3_lib(a, b, c):\n",
    "    \"\"\"\n",
    "    Obliczanie wyznacznika macierzy 3x3 z użyciem funkcji bibliotecznych\n",
    "    :param a: krotka współrzędnych (x, y) pierwszego punktu tworzącego naszą prostą\n",
    "    :param b: krotka współrzędnych (x, y) drugiego punktu tworzącego naszą prostą\n",
    "    :param c: krotka współrzędnych (x, y) punktu, którego położenie względem prostej chcemy znaleźć\n",
    "    :return: wartość wyznacznika macierzy\n",
    "    \"\"\"\n",
    "    raise Exception(\"Unimplemented\")"
   ]
  },
  {
   "cell_type": "markdown",
   "metadata": {
    "collapsed": false
   },
   "source": [
    "Uzupełnij funkcje ```mat_det_2x2```."
   ]
  },
  {
   "cell_type": "code",
   "execution_count": 76,
   "metadata": {
    "collapsed": false
   },
   "outputs": [],
   "source": [
    "def mat_det_2x2(a, b, c):\n",
    "    \"\"\"\n",
    "    Obliczanie wyznacznika macierzy 2x2 bez użycia funkcji bibliotecznych\n",
    "    :param a: krotka współrzędnych (x, y) pierwszego punktu tworzącego naszą prostą\n",
    "    :param b: krotka współrzędnych (x, y) drugiego punktu tworzącego naszą prostą\n",
    "    :param c: krotka współrzędnych (x, y) punktu, którego położenie względem prostej chcemy znaleźć\n",
    "    :return: wartość wyznacznika macierzy\n",
    "    \"\"\"\n",
    "    raise Exception(\"Unimplemented\")"
   ]
  },
  {
   "cell_type": "markdown",
   "metadata": {
    "collapsed": false
   },
   "source": [
    "Uzupełnij funkcję ```mat_det_2x2_lib```, ale tym razem wykorzystaj dowolną funckję biblioteczną do obliczenia wyznacznika."
   ]
  },
  {
   "cell_type": "code",
   "execution_count": 1,
   "metadata": {
    "collapsed": false
   },
   "outputs": [],
   "source": [
    "def mat_det_2x2_lib(a, b, c):\n",
    "    \"\"\"\n",
    "    Obliczanie wyznacznika macierzy 2x2 z użyciem funkcji bibliotecznych\n",
    "    :param a: krotka współrzędnych (x, y) pierwszego punktu tworzącego naszą prostą\n",
    "    :param b: krotka współrzędnych (x, y) drugiego punktu tworzącego naszą prostą\n",
    "    :param c: krotka współrzędnych (x, y) punktu, którego położenie względem prostej chcemy znaleźć\n",
    "    :return: wartość wyznacznika macierzy\n",
    "    \"\"\"\n",
    "    raise Exception(\"Unimplemented\")"
   ]
  },
  {
   "cell_type": "markdown",
   "metadata": {
    "collapsed": false
   },
   "source": [
    "<font size=\"5\"> Przetestujmy napisane powyżej funkcje. </font>"
   ]
  },
  {
   "cell_type": "code",
   "execution_count": null,
   "metadata": {
    "collapsed": false
   },
   "outputs": [],
   "source": [
    "Test().runtest(2,mat_det_3x3,mat_det_2x2,mat_det_3x3_lib,mat_det_2x2_lib)"
   ]
  },
  {
   "cell_type": "markdown",
   "metadata": {
    "collapsed": false
   },
   "source": [
    "<span style=\"color:red\">Ćw.</span> Klasyfikacja punktów względem prostej - zaimplementuj funkcję ```categorize_points```, która skwalifukuje punkty względem prostej wyznacznonej przez wektor $\\large \\overrightarrow{ab}$ (prosta przechodząca przez punkty $\\large a$ oraz $\\large b$."
   ]
  },
  {
   "cell_type": "code",
   "execution_count": null,
   "metadata": {
    "collapsed": false
   },
   "outputs": [],
   "source": [
    "def categorize_points(points, a, b, mat_det_func, eps):\n",
    "    \"\"\"\n",
    "    :param points: tablica punktów w postaci krotek współrzednych\n",
    "    :param a: krotka współrzędnych oznaczająca początek odcinka\n",
    "    :param b: krotka współrzędnych oznaczająca koniec odcinka\n",
    "    :param mat_det_func: funkcja która będzie tutaj używana do obliczenia wyznacznika macierzy\n",
    "    :param eps: epsilon - jak blisko wyznacznik macierzy ma być blisko zera, aby uznać punkt za leżący na prostej\n",
    "    :return: krotka zawierająca 3 zbiory punktów, ([na lewo od prostej ab], [współliniowe], [na prawo od prostej ab])\n",
    "    \"\"\"\n",
    "    raise Exception(\"Unimplemented\")"
   ]
  },
  {
   "cell_type": "code",
   "execution_count": null,
   "metadata": {
    "collapsed": false
   },
   "outputs": [],
   "source": [
    "a = (-1.0, 0.0)\n",
    "b = (1.0, 0.1)"
   ]
  },
  {
   "cell_type": "code",
   "execution_count": null,
   "metadata": {
    "collapsed": false
   },
   "outputs": [],
   "source": [
    "classified_points_a = categorize_points(points_a, a, b, mat_det_3x3, 10 ** -12)"
   ]
  },
  {
   "cell_type": "code",
   "execution_count": null,
   "metadata": {
    "collapsed": false
   },
   "outputs": [],
   "source": [
    "# visualize(classified_points_a[0], classified_points_a[1], classified_points_a[2])"
   ]
  },
  {
   "cell_type": "code",
   "execution_count": null,
   "metadata": {
    "collapsed": false
   },
   "outputs": [],
   "source": [
    "classified_points_b = categorize_points(points_b, a, b, mat_det_3x3_lib, 10 ** -12)"
   ]
  },
  {
   "cell_type": "code",
   "execution_count": null,
   "metadata": {
    "collapsed": false
   },
   "outputs": [],
   "source": [
    "# visualize(classified_points_b[0], classified_points_b[1], classified_points_b[2])"
   ]
  },
  {
   "cell_type": "code",
   "execution_count": null,
   "metadata": {
    "collapsed": false
   },
   "outputs": [],
   "source": [
    "classified_points_c = categorize_points(points_c, a, b, mat_det_2x2, 10 ** -12)"
   ]
  },
  {
   "cell_type": "code",
   "execution_count": null,
   "metadata": {
    "collapsed": false
   },
   "outputs": [],
   "source": [
    "# visualize(classified_points_c[0], classified_points_c[1], classified_points_c[2])"
   ]
  },
  {
   "cell_type": "code",
   "execution_count": null,
   "metadata": {
    "collapsed": false
   },
   "outputs": [],
   "source": [
    "classified_points_d = categorize_points(points_d, a, b, mat_det_2x2_lib, 10 ** -12)"
   ]
  },
  {
   "cell_type": "code",
   "execution_count": null,
   "metadata": {
    "collapsed": false
   },
   "outputs": [],
   "source": [
    "# visualize(classified_points_d[0], classified_points_d[1], classified_points_d[2])"
   ]
  },
  {
   "cell_type": "markdown",
   "metadata": {
    "collapsed": false
   },
   "source": [
    "Przeprowadźmy teraz testy dla mniejszej precyzji obliczeń. Do tego celu należy zmiejszyć typ danych z float64 (domyślny typ floata w pythonie) na float32. Różnią się one tym, że float32 jest zapisywane na mniejszej ilości bitów, co przekłada się no mniejszą ilosć cyfr po przecinku.\n",
    "Zamienić typ floata w całej tablicy można zrobić w następujący sposób:"
   ]
  },
  {
   "cell_type": "code",
   "execution_count": null,
   "metadata": {
    "collapsed": false
   },
   "outputs": [],
   "source": [
    "points_a_float32 = np.float32(points_a)"
   ]
  },
  {
   "cell_type": "markdown",
   "metadata": {
    "collapsed": false
   },
   "source": [
    "Porównaj wyniki klasyfikacji dla współrzędnych punktów o zmiejszonej precyzji floata."
   ]
  },
  {
   "cell_type": "markdown",
   "metadata": {
    "collapsed": false
   },
   "source": [
    "Opisz swoje wnioski na podstawie przeprowadzonych własnoręcznie testów.\n"
   ]
  },
  {
   "cell_type": "markdown",
   "metadata": {
    "collapsed": false
   },
   "source": [
    "WNIOSKI HERE"
   ]
  }
 ],
 "metadata": {
  "kernelspec": {
   "display_name": "Python 3 (ipykernel)",
   "language": "python",
   "name": "python3"
  },
  "language_info": {
   "codemirror_mode": {
    "name": "ipython",
    "version": 3
   },
   "file_extension": ".py",
   "mimetype": "text/x-python",
   "name": "python",
   "nbconvert_exporter": "python",
   "pygments_lexer": "ipython3",
   "version": "3.11.3"
  },
  "orig_nbformat": 4
 },
 "nbformat": 4,
 "nbformat_minor": 2
}
