{
 "cells": [
  {
   "cell_type": "markdown",
   "source": [
    "# Algotytm przecinania się odcinków na płaszczyźnie"
   ],
   "metadata": {
    "collapsed": false
   }
  },
  {
   "cell_type": "code",
   "execution_count": null,
   "metadata": {},
   "outputs": [],
   "source": [
    "import numpy as np\n",
    "import pandas as pd\n",
    "from bitalg.tests.test4 import Test\n",
    "from bitalg.visualizer.main import Visualizer"
   ]
  },
  {
   "cell_type": "markdown",
   "source": [
    "# Przydatne funkcje "
   ],
   "metadata": {
    "collapsed": false
   }
  },
  {
   "cell_type": "code",
   "execution_count": null,
   "outputs": [],
   "source": [
    "def draw_example_1():\n",
    "    vis = Visualizer()\n",
    "    line_segments = ((-0.5, 0.5), (8.5, 3.5),\n",
    "                     (1, 3), (7, 5),\n",
    "                     (2, 4), (5, 1),\n",
    "                     (4.5, 3), (6.5, 6),\n",
    "                     (0, 5), (5.5, 5.5))\n",
    "\n",
    "    vis.add_line_segment(line_segments)\n",
    "    vis.show()\n",
    "    \n",
    "def draw_example_2():\n",
    "    vis = Visualizer()\n",
    "    line_segments = ((-0.5, 0.5), (8.5, 3.5),\n",
    "                     (1, 3), (7, 5),\n",
    "                     (2, 4), (5, 1),\n",
    "                     (4.5, 3), (6.5, 6),\n",
    "                     (0, 5), (5.5, 5.5))\n",
    "    points = [(4, 2),\n",
    "              (2.5, 3.5),\n",
    "              (5.5, 4.5)]\n",
    "\n",
    "    vis.add_line_segment(line_segments)\n",
    "    vis.add_point(points, color='red')\n",
    "    vis.show()\n"
   ],
   "metadata": {
    "collapsed": false
   }
  },
  {
   "cell_type": "markdown",
   "source": [
    "### Wprowadzenie\n",
    "Celem ćwiczenia jest implementacja i zapoznanie się z algorytmem wyznaczającym wszystkie przecięcia się odcinków na płaszczyźnie"
   ],
   "metadata": {
    "collapsed": false
   }
  },
  {
   "cell_type": "markdown",
   "source": [
    "### Przykładowy zbiór odcinków przed wyznaczeniem punktów przecięcia"
   ],
   "metadata": {
    "collapsed": false
   }
  },
  {
   "cell_type": "code",
   "execution_count": null,
   "outputs": [],
   "source": [
    "draw_example_1()"
   ],
   "metadata": {
    "collapsed": false
   }
  },
  {
   "cell_type": "markdown",
   "source": [
    "### Przykładowy zbiór odcinków po wyznaczenu punktów przecięcia"
   ],
   "metadata": {
    "collapsed": false
   }
  },
  {
   "cell_type": "code",
   "execution_count": null,
   "outputs": [],
   "source": [
    "draw_example_2()"
   ],
   "metadata": {
    "collapsed": false
   }
  },
  {
   "cell_type": "markdown",
   "source": [
    "# Generowanie losowych odcinków na płaszczyźnie"
   ],
   "metadata": {
    "collapsed": false
   }
  },
  {
   "cell_type": "markdown",
   "source": [
    "Uzupełnij funkcję ```generate_uniform_sections```"
   ],
   "metadata": {
    "collapsed": false
   }
  },
  {
   "cell_type": "code",
   "execution_count": null,
   "outputs": [],
   "source": [
    "def generate_uniform_sections(max_x, max_y, n):\n",
    "    \"\"\"\n",
    "    Funkcja generuje odcinki o współrzędnych rzeczywistych w postaci par punktów. \n",
    "    Żaden wygenerowany odcinek nie jest odcinkiem pionowym.\n",
    "    Żadne dwa odcinki nie mają swoich końców o takiej samej współrzędnej x.\n",
    "    Zakres współrzędnych: x -> (0, max_x), y -> (0, max_y)\n",
    "    :param max_x: określa maksymalną wartość współrzednej x jaka może zostać wylosowana\n",
    "    :param max_y: określa maksymalną wartość współrzednej y jaka może zostać wylosowana\n",
    "    :param n: ilość generowanych odcinków\n",
    "    :return: tablica odcinków w postaci krotek zawierających parę krotek współrzędnych punktów końcowych odcinków\n",
    "    np. [((x1, y1), (x2, y2)), ((x3, y3), (x4, y4)),...]\n",
    "    \"\"\"\n",
    "    raise Exception(\"Unimplemented\")"
   ],
   "metadata": {
    "collapsed": false
   }
  },
  {
   "cell_type": "code",
   "execution_count": null,
   "outputs": [],
   "source": [
    "Test().runtest(1, generate_uniform_sections)"
   ],
   "metadata": {
    "collapsed": false
   }
  },
  {
   "cell_type": "markdown",
   "source": [
    "<span style=\"color:red\">Ćw.</span> Wygeneruj $\\large20$ losowych odcinków w przestrzeni 2D o współrzędnych z przedziału $\\large x \\in \\langle 0,1000 \\rangle$ oraz $\\large y \\in \\langle 0,1000\\rangle$. "
   ],
   "metadata": {
    "collapsed": false
   }
  },
  {
   "cell_type": "code",
   "execution_count": null,
   "outputs": [],
   "source": [
    "# section = ..."
   ],
   "metadata": {
    "collapsed": false
   }
  },
  {
   "cell_type": "markdown",
   "source": [
    "Zwizualizuj otrzymane odcinki"
   ],
   "metadata": {
    "collapsed": false
   }
  },
  {
   "cell_type": "code",
   "execution_count": null,
   "outputs": [],
   "source": [
    "# ..."
   ],
   "metadata": {
    "collapsed": false
   }
  },
  {
   "cell_type": "markdown",
   "source": [
    "Uzupełnij funkcję ```add_sections``` #interaktywne dodawanie odcinków przez rysowanie myszką (jak?) TODO"
   ],
   "metadata": {
    "collapsed": false
   }
  },
  {
   "cell_type": "code",
   "execution_count": null,
   "outputs": [],
   "source": [
    "# def add_sections(sections):"
   ],
   "metadata": {
    "collapsed": false
   }
  },
  {
   "cell_type": "markdown",
   "source": [
    "Uzupełnij funkcję ```is_intersection```"
   ],
   "metadata": {
    "collapsed": false
   }
  },
  {
   "cell_type": "code",
   "execution_count": null,
   "outputs": [],
   "source": [
    "def is_intersection(sections):\n",
    "    \"\"\"\n",
    "    Funkcja sprawdza czy jakakolwiek para podanych odcinków się przecina \n",
    "    :param sections: tablica odcinków w postaci krotek krotek współrzędnych punktów końcowych odcinków\n",
    "    :param eps: epsilon będący dokładnością, z jaką porównujemy liczby zmiennoprzecinkowe\n",
    "    :return: True / False\n",
    "    \"\"\"\n",
    "    raise Exception(\"Unimplemented\")"
   ],
   "metadata": {
    "collapsed": false
   }
  },
  {
   "cell_type": "code",
   "execution_count": null,
   "outputs": [],
   "source": [
    "Test().runtest(2, is_intersection)"
   ],
   "metadata": {
    "collapsed": false
   }
  },
  {
   "cell_type": "markdown",
   "source": [
    "### W jaki sposób zaimplementowałeś struktura stanu (stan miotły) oraz struktura zdarzeń w Twoim programie?"
   ],
   "metadata": {
    "collapsed": false
   }
  },
  {
   "cell_type": "markdown",
   "source": [
    "Odpowiedź here"
   ],
   "metadata": {
    "collapsed": false
   }
  },
  {
   "cell_type": "markdown",
   "source": [
    "Uzupełnij funkcję ```is_intersection_with_visualization```"
   ],
   "metadata": {
    "collapsed": false
   }
  },
  {
   "cell_type": "code",
   "execution_count": null,
   "outputs": [],
   "source": [
    "def is_intersection_with_visualization(sections):\n",
    "    \"\"\"\n",
    "    Funkcja sprawdza czy jakakolwiek para podanych odcinków się przecina i dodatkowo zwraca kolejne kroki w wizualizacji \n",
    "    :param sections: tablica odcinków w postaci krotek ktorek współrzędnych punktów końcowych odcinków\n",
    "    :return: True / False\n",
    "    \"\"\"\n",
    "    raise Exception(\"Unimplemented\")"
   ],
   "metadata": {
    "collapsed": false
   }
  },
  {
   "cell_type": "markdown",
   "source": [
    "Uzupełnij funkcję ```find_intersections```"
   ],
   "metadata": {
    "collapsed": false
   }
  },
  {
   "cell_type": "code",
   "execution_count": null,
   "outputs": [],
   "source": [
    "def find_intersections(sections):\n",
    "    \"\"\"\n",
    "    Funkcja znajduje wszystkie przecięcia zadanych odcinków\n",
    "    :param sections: tablica odcinków w postaci krotek ktorek współrzędnych punktów końcowych odcinków\n",
    "    :return: tablica punktów przecięć w postaci trzyelementowych krotek w których pierwszym elementem są współrzędne danego punktu, a drugim i trzecim indeksy prostych z listy wejściowej, które się przecinają w tym punkcie współrzędnych np.:\n",
    "    [((x1, y1), id1,id2),\n",
    "    ((x2, y2), id3, id4),\n",
    "    ...]\n",
    "    \"\"\"\n",
    "    raise Exception(\"Unimplemented\")"
   ],
   "metadata": {
    "collapsed": false
   }
  },
  {
   "cell_type": "code",
   "execution_count": null,
   "outputs": [],
   "source": [
    "Test().runtest(3, find_intersections)"
   ],
   "metadata": {
    "collapsed": false
   }
  },
  {
   "cell_type": "markdown",
   "source": [
    "Uzupełnij funkcję ```find_intersections_with_visualization```"
   ],
   "metadata": {
    "collapsed": false
   }
  },
  {
   "cell_type": "code",
   "execution_count": null,
   "outputs": [],
   "source": [
    "def find_intersections_with_visualization(sections):\n",
    "    \"\"\"\n",
    "    Funkcja znajduje wszystkie przecięcia zadanych odcinków i dodatkowo zwraca kolejne kroki w wizualizacji \n",
    "    :param sections: tablica odcinków w postaci krotek ktorek współrzędnych punktów końcowych odcinków\n",
    "    :return: tablica punktów przecięć w postaci trzyelementowych krotek w których pierwszym elementem są współrzędne danego punktu, a drugim i trzecim indeksy prostych z listy wejściowej, które się przecinają w tym punkcie współrzędnych np.:\n",
    "    [((x1, y1), id1,id2),\n",
    "    ((x2, y2), id3, id4),\n",
    "    ...]\n",
    "    \"\"\""
   ],
   "metadata": {
    "collapsed": false
   }
  },
  {
   "cell_type": "markdown",
   "source": [
    "### Czy konieczne były zmiany w strukturze zdarzeń. Jeśli tak, to jakie? Czy w przypadku obu algorytmów konieczne są takie same struktury zdarzeń?\n",
    "### Odpowiedź uzasadnij. "
   ],
   "metadata": {
    "collapsed": false
   }
  },
  {
   "cell_type": "markdown",
   "source": [
    "Odpowiedź here"
   ],
   "metadata": {
    "collapsed": false
   }
  },
  {
   "cell_type": "markdown",
   "source": [
    "### Jak obsługiwane są zdarzenia początku odcinka, końca odcinka i przecięcia odcinków z uwzględnianiem wybranych struktur danych?"
   ],
   "metadata": {
    "collapsed": false
   }
  },
  {
   "cell_type": "markdown",
   "source": [
    "Odpowiedź here"
   ],
   "metadata": {
    "collapsed": false
   }
  },
  {
   "cell_type": "markdown",
   "source": [
    "### Samemu zaprojektuj test, który uwzględnia taki układ odcinków, przy którym pewne przecięcia będą wykrywane więcej niż jeden raz"
   ],
   "metadata": {
    "collapsed": false
   }
  },
  {
   "cell_type": "code",
   "execution_count": null,
   "outputs": [],
   "source": [
    "# testing_sections = ???"
   ],
   "metadata": {
    "collapsed": false
   }
  },
  {
   "cell_type": "code",
   "execution_count": null,
   "outputs": [],
   "source": [
    "### Czy Twój program uwzględnia powyższy przypadek? Jeśli tak, to jak? "
   ],
   "metadata": {
    "collapsed": false
   }
  },
  {
   "cell_type": "markdown",
   "source": [
    "Odpowiedź here"
   ],
   "metadata": {
    "collapsed": false
   }
  },
  {
   "cell_type": "markdown",
   "source": [
    "### Zadanie dodatkowe\n",
    "Zaimplementuj inną strukturę stanu. Opisz ją w sprawozdaniu. Porównaj efektywność algorytmu dla obu struktur robiąc testy na odpowiednio dużych zestawach odcinków."
   ],
   "metadata": {
    "collapsed": false
   }
  },
  {
   "cell_type": "code",
   "execution_count": null,
   "outputs": [],
   "source": [],
   "metadata": {
    "collapsed": false
   }
  }
 ],
 "metadata": {
  "language_info": {
   "name": "python"
  },
  "orig_nbformat": 4,
  "kernelspec": {
   "name": "python3",
   "language": "python",
   "display_name": "Python 3 (ipykernel)"
  }
 },
 "nbformat": 4,
 "nbformat_minor": 2
}
